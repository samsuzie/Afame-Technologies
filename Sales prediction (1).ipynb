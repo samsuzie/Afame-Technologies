{
 "cells": [
  {
   "cell_type": "code",
   "execution_count": 160,
   "id": "229398de",
   "metadata": {},
   "outputs": [],
   "source": [
    "import pandas as pd\n",
    "import numpy as np\n",
    "import matplotlib.pyplot as plt\n",
    "import seaborn as sns\n",
    "%matplotlib inline"
   ]
  },
  {
   "cell_type": "code",
   "execution_count": 161,
   "id": "bfe4b19e",
   "metadata": {},
   "outputs": [],
   "source": [
    "df = pd.read_csv(\"Sales.csv\")"
   ]
  },
  {
   "cell_type": "code",
   "execution_count": 162,
   "id": "ea69c7f2",
   "metadata": {},
   "outputs": [
    {
     "data": {
      "text/html": [
       "<div>\n",
       "<style scoped>\n",
       "    .dataframe tbody tr th:only-of-type {\n",
       "        vertical-align: middle;\n",
       "    }\n",
       "\n",
       "    .dataframe tbody tr th {\n",
       "        vertical-align: top;\n",
       "    }\n",
       "\n",
       "    .dataframe thead th {\n",
       "        text-align: right;\n",
       "    }\n",
       "</style>\n",
       "<table border=\"1\" class=\"dataframe\">\n",
       "  <thead>\n",
       "    <tr style=\"text-align: right;\">\n",
       "      <th></th>\n",
       "      <th>TV</th>\n",
       "      <th>Radio</th>\n",
       "      <th>Newspaper</th>\n",
       "      <th>Sales</th>\n",
       "    </tr>\n",
       "  </thead>\n",
       "  <tbody>\n",
       "    <tr>\n",
       "      <th>0</th>\n",
       "      <td>230.1</td>\n",
       "      <td>37.8</td>\n",
       "      <td>69.2</td>\n",
       "      <td>22.1</td>\n",
       "    </tr>\n",
       "    <tr>\n",
       "      <th>1</th>\n",
       "      <td>44.5</td>\n",
       "      <td>39.3</td>\n",
       "      <td>45.1</td>\n",
       "      <td>10.4</td>\n",
       "    </tr>\n",
       "    <tr>\n",
       "      <th>2</th>\n",
       "      <td>17.2</td>\n",
       "      <td>45.9</td>\n",
       "      <td>69.3</td>\n",
       "      <td>12.0</td>\n",
       "    </tr>\n",
       "    <tr>\n",
       "      <th>3</th>\n",
       "      <td>151.5</td>\n",
       "      <td>41.3</td>\n",
       "      <td>58.5</td>\n",
       "      <td>16.5</td>\n",
       "    </tr>\n",
       "    <tr>\n",
       "      <th>4</th>\n",
       "      <td>180.8</td>\n",
       "      <td>10.8</td>\n",
       "      <td>58.4</td>\n",
       "      <td>17.9</td>\n",
       "    </tr>\n",
       "  </tbody>\n",
       "</table>\n",
       "</div>"
      ],
      "text/plain": [
       "      TV  Radio  Newspaper  Sales\n",
       "0  230.1   37.8       69.2   22.1\n",
       "1   44.5   39.3       45.1   10.4\n",
       "2   17.2   45.9       69.3   12.0\n",
       "3  151.5   41.3       58.5   16.5\n",
       "4  180.8   10.8       58.4   17.9"
      ]
     },
     "execution_count": 162,
     "metadata": {},
     "output_type": "execute_result"
    }
   ],
   "source": [
    "df.head()"
   ]
  },
  {
   "cell_type": "code",
   "execution_count": 163,
   "id": "8db13ace",
   "metadata": {},
   "outputs": [
    {
     "data": {
      "text/plain": [
       "<Axes: >"
      ]
     },
     "execution_count": 163,
     "metadata": {},
     "output_type": "execute_result"
    },
    {
     "data": {
      "image/png": "[encoded data removed]",
      "text/plain": [
       "<Figure size 640x480 with 1 Axes>"
      ]
     },
     "metadata": {},
     "output_type": "display_data"
    }
   ],
   "source": [
    "sns.heatmap(df.isnull(),yticklabels=False,cbar=False,cmap=\"viridis\")"
   ]
  },
  {
   "cell_type": "code",
   "execution_count": 164,
   "id": "46702d1a",
   "metadata": {},
   "outputs": [
    {
     "data": {
      "text/html": [
       "<div>\n",
       "<style scoped>\n",
       "    .dataframe tbody tr th:only-of-type {\n",
       "        vertical-align: middle;\n",
       "    }\n",
       "\n",
       "    .dataframe tbody tr th {\n",
       "        vertical-align: top;\n",
       "    }\n",
       "\n",
       "    .dataframe thead th {\n",
       "        text-align: right;\n",
       "    }\n",
       "</style>\n",
       "<table border=\"1\" class=\"dataframe\">\n",
       "  <thead>\n",
       "    <tr style=\"text-align: right;\">\n",
       "      <th></th>\n",
       "      <th>TV</th>\n",
       "      <th>Radio</th>\n",
       "      <th>Newspaper</th>\n",
       "      <th>Sales</th>\n",
       "    </tr>\n",
       "  </thead>\n",
       "  <tbody>\n",
       "    <tr>\n",
       "      <th>count</th>\n",
       "      <td>200.000000</td>\n",
       "      <td>200.000000</td>\n",
       "      <td>200.000000</td>\n",
       "      <td>200.000000</td>\n",
       "    </tr>\n",
       "    <tr>\n",
       "      <th>mean</th>\n",
       "      <td>147.042500</td>\n",
       "      <td>23.264000</td>\n",
       "      <td>30.554000</td>\n",
       "      <td>15.130500</td>\n",
       "    </tr>\n",
       "    <tr>\n",
       "      <th>std</th>\n",
       "      <td>85.854236</td>\n",
       "      <td>14.846809</td>\n",
       "      <td>21.778621</td>\n",
       "      <td>5.283892</td>\n",
       "    </tr>\n",
       "    <tr>\n",
       "      <th>min</th>\n",
       "      <td>0.700000</td>\n",
       "      <td>0.000000</td>\n",
       "      <td>0.300000</td>\n",
       "      <td>1.600000</td>\n",
       "    </tr>\n",
       "    <tr>\n",
       "      <th>25%</th>\n",
       "      <td>74.375000</td>\n",
       "      <td>9.975000</td>\n",
       "      <td>12.750000</td>\n",
       "      <td>11.000000</td>\n",
       "    </tr>\n",
       "    <tr>\n",
       "      <th>50%</th>\n",
       "      <td>149.750000</td>\n",
       "      <td>22.900000</td>\n",
       "      <td>25.750000</td>\n",
       "      <td>16.000000</td>\n",
       "    </tr>\n",
       "    <tr>\n",
       "      <th>75%</th>\n",
       "      <td>218.825000</td>\n",
       "      <td>36.525000</td>\n",
       "      <td>45.100000</td>\n",
       "      <td>19.050000</td>\n",
       "    </tr>\n",
       "    <tr>\n",
       "      <th>max</th>\n",
       "      <td>296.400000</td>\n",
       "      <td>49.600000</td>\n",
       "      <td>114.000000</td>\n",
       "      <td>27.000000</td>\n",
       "    </tr>\n",
       "  </tbody>\n",
       "</table>\n",
       "</div>"
      ],
      "text/plain": [
       "               TV       Radio   Newspaper       Sales\n",
       "count  200.000000  200.000000  200.000000  200.000000\n",
       "mean   147.042500   23.264000   30.554000   15.130500\n",
       "std     85.854236   14.846809   21.778621    5.283892\n",
       "min      0.700000    0.000000    0.300000    1.600000\n",
       "25%     74.375000    9.975000   12.750000   11.000000\n",
       "50%    149.750000   22.900000   25.750000   16.000000\n",
       "75%    218.825000   36.525000   45.100000   19.050000\n",
       "max    296.400000   49.600000  114.000000   27.000000"
      ]
     },
     "execution_count": 164,
     "metadata": {},
     "output_type": "execute_result"
    }
   ],
   "source": [
    "df.describe()"
   ]
  },
  {
   "cell_type": "code",
   "execution_count": 165,
   "id": "6e1b12bb",
   "metadata": {},
   "outputs": [
    {
     "name": "stdout",
     "output_type": "stream",
     "text": [
      "<class 'pandas.core.frame.DataFrame'>\n",
      "RangeIndex: 200 entries, 0 to 199\n",
      "Data columns (total 4 columns):\n",
      " #   Column     Non-Null Count  Dtype  \n",
      "---  ------     --------------  -----  \n",
      " 0   TV         200 non-null    float64\n",
      " 1   Radio      200 non-null    float64\n",
      " 2   Newspaper  200 non-null    float64\n",
      " 3   Sales      200 non-null    float64\n",
      "dtypes: float64(4)\n",
      "memory usage: 6.4 KB\n"
     ]
    }
   ],
   "source": [
    "df.info()"
   ]
  },
  {
   "cell_type": "code",
   "execution_count": 166,
   "id": "d00a47d5",
   "metadata": {},
   "outputs": [
    {
     "data": {
      "text/plain": [
       "4.1     3\n",
       "5.7     3\n",
       "13.9    2\n",
       "14.3    2\n",
       "36.9    2\n",
       "       ..\n",
       "42.8    1\n",
       "14.5    1\n",
       "30.6    1\n",
       "33.0    1\n",
       "8.6     1\n",
       "Name: Radio, Length: 167, dtype: int64"
      ]
     },
     "execution_count": 166,
     "metadata": {},
     "output_type": "execute_result"
    }
   ],
   "source": [
    "df['Radio'].value_counts()"
   ]
  },
  {
   "cell_type": "code",
   "execution_count": 167,
   "id": "af594e43",
   "metadata": {},
   "outputs": [
    {
     "data": {
      "text/html": [
       "<div>\n",
       "<style scoped>\n",
       "    .dataframe tbody tr th:only-of-type {\n",
       "        vertical-align: middle;\n",
       "    }\n",
       "\n",
       "    .dataframe tbody tr th {\n",
       "        vertical-align: top;\n",
       "    }\n",
       "\n",
       "    .dataframe thead th {\n",
       "        text-align: right;\n",
       "    }\n",
       "</style>\n",
       "<table border=\"1\" class=\"dataframe\">\n",
       "  <thead>\n",
       "    <tr style=\"text-align: right;\">\n",
       "      <th></th>\n",
       "      <th>TV</th>\n",
       "      <th>Radio</th>\n",
       "      <th>Newspaper</th>\n",
       "      <th>Sales</th>\n",
       "    </tr>\n",
       "  </thead>\n",
       "  <tbody>\n",
       "    <tr>\n",
       "      <th>count</th>\n",
       "      <td>200.000000</td>\n",
       "      <td>200.000000</td>\n",
       "      <td>200.000000</td>\n",
       "      <td>200.000000</td>\n",
       "    </tr>\n",
       "    <tr>\n",
       "      <th>mean</th>\n",
       "      <td>147.042500</td>\n",
       "      <td>23.264000</td>\n",
       "      <td>30.554000</td>\n",
       "      <td>15.130500</td>\n",
       "    </tr>\n",
       "    <tr>\n",
       "      <th>std</th>\n",
       "      <td>85.854236</td>\n",
       "      <td>14.846809</td>\n",
       "      <td>21.778621</td>\n",
       "      <td>5.283892</td>\n",
       "    </tr>\n",
       "    <tr>\n",
       "      <th>min</th>\n",
       "      <td>0.700000</td>\n",
       "      <td>0.000000</td>\n",
       "      <td>0.300000</td>\n",
       "      <td>1.600000</td>\n",
       "    </tr>\n",
       "    <tr>\n",
       "      <th>25%</th>\n",
       "      <td>74.375000</td>\n",
       "      <td>9.975000</td>\n",
       "      <td>12.750000</td>\n",
       "      <td>11.000000</td>\n",
       "    </tr>\n",
       "    <tr>\n",
       "      <th>50%</th>\n",
       "      <td>149.750000</td>\n",
       "      <td>22.900000</td>\n",
       "      <td>25.750000</td>\n",
       "      <td>16.000000</td>\n",
       "    </tr>\n",
       "    <tr>\n",
       "      <th>75%</th>\n",
       "      <td>218.825000</td>\n",
       "      <td>36.525000</td>\n",
       "      <td>45.100000</td>\n",
       "      <td>19.050000</td>\n",
       "    </tr>\n",
       "    <tr>\n",
       "      <th>max</th>\n",
       "      <td>296.400000</td>\n",
       "      <td>49.600000</td>\n",
       "      <td>114.000000</td>\n",
       "      <td>27.000000</td>\n",
       "    </tr>\n",
       "  </tbody>\n",
       "</table>\n",
       "</div>"
      ],
      "text/plain": [
       "               TV       Radio   Newspaper       Sales\n",
       "count  200.000000  200.000000  200.000000  200.000000\n",
       "mean   147.042500   23.264000   30.554000   15.130500\n",
       "std     85.854236   14.846809   21.778621    5.283892\n",
       "min      0.700000    0.000000    0.300000    1.600000\n",
       "25%     74.375000    9.975000   12.750000   11.000000\n",
       "50%    149.750000   22.900000   25.750000   16.000000\n",
       "75%    218.825000   36.525000   45.100000   19.050000\n",
       "max    296.400000   49.600000  114.000000   27.000000"
      ]
     },
     "execution_count": 167,
     "metadata": {},
     "output_type": "execute_result"
    }
   ],
   "source": [
    "df.describe()"
   ]
  },
  {
   "cell_type": "code",
   "execution_count": null,
   "id": "8dd508d2",
   "metadata": {},
   "outputs": [],
   "source": []
  },
  {
   "cell_type": "code",
   "execution_count": 168,
   "id": "a7b101b6",
   "metadata": {},
   "outputs": [
    {
     "data": {
      "text/plain": [
       "<seaborn.axisgrid.PairGrid at 0x2542a8f0450>"
      ]
     },
     "execution_count": 168,
     "metadata": {},
     "output_type": "execute_result"
    },
    {
     "data": {
      "image/png": "[encoded data removed]",
      "text/plain": [
       "<Figure size 750x250 with 3 Axes>"
      ]
     },
     "metadata": {},
     "output_type": "display_data"
    }
   ],
   "source": [
    "sns.pairplot(df,x_vars=['TV','Radio','Newspaper'],y_vars='Sales')"
   ]
  },
  {
   "cell_type": "code",
   "execution_count": 169,
   "id": "f38ade4c",
   "metadata": {},
   "outputs": [
    {
     "data": {
      "text/plain": [
       "<Axes: xlabel='TV', ylabel='Count'>"
      ]
     },
     "execution_count": 169,
     "metadata": {},
     "output_type": "execute_result"
    },
    {
     "data": {
      "image/png": "[encoded data removed]",
      "text/plain": [
       "<Figure size 640x480 with 1 Axes>"
      ]
     },
     "metadata": {},
     "output_type": "display_data"
    }
   ],
   "source": [
    "sns.histplot(data=df, x=\"TV\", color=\"skyblue\")"
   ]
  },
  {
   "cell_type": "code",
   "execution_count": 170,
   "id": "2917e802",
   "metadata": {},
   "outputs": [
    {
     "data": {
      "text/plain": [
       "<seaborn.axisgrid.PairGrid at 0x2542dc072d0>"
      ]
     },
     "execution_count": 170,
     "metadata": {},
     "output_type": "execute_result"
    },
    {
     "data": {
      "image/png": "[encoded data removed]",
      "text/plain": [
       "<Figure size 1470x700 with 3 Axes>"
      ]
     },
     "metadata": {},
     "output_type": "display_data"
    }
   ],
   "source": [
    "sns.pairplot(df,x_vars=['TV','Radio','Newspaper'],y_vars='Sales',height=7,aspect=0.7,kind='reg')"
   ]
  },
  {
   "cell_type": "code",
   "execution_count": 171,
   "id": "dfd75530",
   "metadata": {},
   "outputs": [
    {
     "data": {
      "text/plain": [
       "<Axes: xlabel='Sales', ylabel='TV'>"
      ]
     },
     "execution_count": 171,
     "metadata": {},
     "output_type": "execute_result"
    },
    {
     "data": {
      "image/png": "[encoded data removed]",
      "text/plain": [
       "<Figure size 640x480 with 1 Axes>"
      ]
     },
     "metadata": {},
     "output_type": "display_data"
    }
   ],
   "source": [
    "sns.boxplot(data = df , x='Sales',y='TV')"
   ]
  },
  {
   "cell_type": "code",
   "execution_count": 172,
   "id": "8c8448f2",
   "metadata": {},
   "outputs": [
    {
     "data": {
      "text/plain": [
       "<Axes: xlabel='Radio', ylabel='Sales'>"
      ]
     },
     "execution_count": 172,
     "metadata": {},
     "output_type": "execute_result"
    },
    {
     "data": {
      "image/png": "[encoded data removed]",
      "text/plain": [
       "<Figure size 640x480 with 1 Axes>"
      ]
     },
     "metadata": {},
     "output_type": "display_data"
    }
   ],
   "source": [
    "sns.histplot(data=df, x=\"Radio\",y='Sales', color=\"skyblue\")"
   ]
  },
  {
   "cell_type": "code",
   "execution_count": 173,
   "id": "1e7af1e6",
   "metadata": {},
   "outputs": [
    {
     "data": {
      "text/plain": [
       "<Axes: xlabel='Sales', ylabel='Radio'>"
      ]
     },
     "execution_count": 173,
     "metadata": {},
     "output_type": "execute_result"
    },
    {
     "data": {
      "image/png": "[encoded data removed]",
      "text/plain": [
       "<Figure size 640x480 with 1 Axes>"
      ]
     },
     "metadata": {},
     "output_type": "display_data"
    }
   ],
   "source": [
    "sns.barplot(data=df, x=\"Sales\",y='Radio', color=\"skyblue\")"
   ]
  },
  {
   "cell_type": "code",
   "execution_count": 174,
   "id": "a01b4efe",
   "metadata": {},
   "outputs": [],
   "source": [
    "#return on investment on advertising on TV"
   ]
  },
  {
   "cell_type": "code",
   "execution_count": 175,
   "id": "ff2c1b97",
   "metadata": {},
   "outputs": [],
   "source": [
    "df_filtered = df[df['TV'] > 0]  # Filter for rows with TV expenditure greater than zero\n",
    "result = df_filtered[\"Sales\"] / df_filtered['TV']  # Perform division on filtered DataFrame\n"
   ]
  },
  {
   "cell_type": "code",
   "execution_count": 176,
   "id": "f415c83e",
   "metadata": {},
   "outputs": [
    {
     "data": {
      "text/plain": [
       "0      0.096045\n",
       "1      0.233708\n",
       "2      0.697674\n",
       "3      0.108911\n",
       "4      0.099004\n",
       "         ...   \n",
       "195    0.198953\n",
       "196    0.148620\n",
       "197    0.083616\n",
       "198    0.089915\n",
       "199    0.079276\n",
       "Length: 200, dtype: float64"
      ]
     },
     "execution_count": 176,
     "metadata": {},
     "output_type": "execute_result"
    }
   ],
   "source": [
    "result"
   ]
  },
  {
   "cell_type": "code",
   "execution_count": 177,
   "id": "d5a74a26",
   "metadata": {},
   "outputs": [],
   "source": [
    "df2 = pd.DataFrame(result)"
   ]
  },
  {
   "cell_type": "code",
   "execution_count": 178,
   "id": "1a4bdb80",
   "metadata": {},
   "outputs": [],
   "source": [
    "newdf=df.reset_index(drop=True) "
   ]
  },
  {
   "cell_type": "code",
   "execution_count": 179,
   "id": "f15e1d4b",
   "metadata": {},
   "outputs": [],
   "source": [
    "newdf2=df2.reset_index(drop=True)"
   ]
  },
  {
   "cell_type": "code",
   "execution_count": 180,
   "id": "abfcde70",
   "metadata": {},
   "outputs": [],
   "source": [
    "concatenated_df=pd.concat([newdf,newdf2],axis=1)"
   ]
  },
  {
   "cell_type": "code",
   "execution_count": 181,
   "id": "774841ef",
   "metadata": {},
   "outputs": [
    {
     "data": {
      "text/plain": [
       "<Axes: >"
      ]
     },
     "execution_count": 181,
     "metadata": {},
     "output_type": "execute_result"
    },
    {
     "data": {
      "image/png": "[encoded data removed]",
      "text/plain": [
       "<Figure size 640x480 with 1 Axes>"
      ]
     },
     "metadata": {},
     "output_type": "display_data"
    }
   ],
   "source": [
    "sns.heatmap(concatenated_df.isnull(),yticklabels=False,cbar=False,cmap='viridis')"
   ]
  },
  {
   "cell_type": "code",
   "execution_count": 182,
   "id": "5af072d5",
   "metadata": {},
   "outputs": [],
   "source": [
    "concatenated_df = concatenated_df.rename(columns={0: 'ROI_on_tv'})"
   ]
  },
  {
   "cell_type": "code",
   "execution_count": 183,
   "id": "ebf6c6d7",
   "metadata": {},
   "outputs": [
    {
     "data": {
      "text/html": [
       "<div>\n",
       "<style scoped>\n",
       "    .dataframe tbody tr th:only-of-type {\n",
       "        vertical-align: middle;\n",
       "    }\n",
       "\n",
       "    .dataframe tbody tr th {\n",
       "        vertical-align: top;\n",
       "    }\n",
       "\n",
       "    .dataframe thead th {\n",
       "        text-align: right;\n",
       "    }\n",
       "</style>\n",
       "<table border=\"1\" class=\"dataframe\">\n",
       "  <thead>\n",
       "    <tr style=\"text-align: right;\">\n",
       "      <th></th>\n",
       "      <th>TV</th>\n",
       "      <th>Radio</th>\n",
       "      <th>Newspaper</th>\n",
       "      <th>Sales</th>\n",
       "      <th>ROI_on_tv</th>\n",
       "    </tr>\n",
       "  </thead>\n",
       "  <tbody>\n",
       "    <tr>\n",
       "      <th>0</th>\n",
       "      <td>230.1</td>\n",
       "      <td>37.8</td>\n",
       "      <td>69.2</td>\n",
       "      <td>22.1</td>\n",
       "      <td>0.096045</td>\n",
       "    </tr>\n",
       "    <tr>\n",
       "      <th>1</th>\n",
       "      <td>44.5</td>\n",
       "      <td>39.3</td>\n",
       "      <td>45.1</td>\n",
       "      <td>10.4</td>\n",
       "      <td>0.233708</td>\n",
       "    </tr>\n",
       "    <tr>\n",
       "      <th>2</th>\n",
       "      <td>17.2</td>\n",
       "      <td>45.9</td>\n",
       "      <td>69.3</td>\n",
       "      <td>12.0</td>\n",
       "      <td>0.697674</td>\n",
       "    </tr>\n",
       "    <tr>\n",
       "      <th>3</th>\n",
       "      <td>151.5</td>\n",
       "      <td>41.3</td>\n",
       "      <td>58.5</td>\n",
       "      <td>16.5</td>\n",
       "      <td>0.108911</td>\n",
       "    </tr>\n",
       "    <tr>\n",
       "      <th>4</th>\n",
       "      <td>180.8</td>\n",
       "      <td>10.8</td>\n",
       "      <td>58.4</td>\n",
       "      <td>17.9</td>\n",
       "      <td>0.099004</td>\n",
       "    </tr>\n",
       "  </tbody>\n",
       "</table>\n",
       "</div>"
      ],
      "text/plain": [
       "      TV  Radio  Newspaper  Sales  ROI_on_tv\n",
       "0  230.1   37.8       69.2   22.1   0.096045\n",
       "1   44.5   39.3       45.1   10.4   0.233708\n",
       "2   17.2   45.9       69.3   12.0   0.697674\n",
       "3  151.5   41.3       58.5   16.5   0.108911\n",
       "4  180.8   10.8       58.4   17.9   0.099004"
      ]
     },
     "execution_count": 183,
     "metadata": {},
     "output_type": "execute_result"
    }
   ],
   "source": [
    "concatenated_df.head()"
   ]
  },
  {
   "cell_type": "code",
   "execution_count": 184,
   "id": "8e70d182",
   "metadata": {},
   "outputs": [],
   "source": [
    "#ROI of advertisment  radio"
   ]
  },
  {
   "cell_type": "code",
   "execution_count": 185,
   "id": "b8974d6a",
   "metadata": {},
   "outputs": [],
   "source": [
    "df_filtered = df[df['Radio'] > 0]  # Filter for rows with TV expenditure greater than zero\n",
    "result_radio = df_filtered[\"Sales\"] / df_filtered['Radio']  # Perform division on filtered DataFrame"
   ]
  },
  {
   "cell_type": "code",
   "execution_count": 186,
   "id": "84de4534",
   "metadata": {},
   "outputs": [
    {
     "data": {
      "text/plain": [
       "0      0.584656\n",
       "1      0.264631\n",
       "2      0.261438\n",
       "3      0.399516\n",
       "4      1.657407\n",
       "         ...   \n",
       "195    2.054054\n",
       "196    2.857143\n",
       "197    1.591398\n",
       "198    0.607143\n",
       "199    2.139535\n",
       "Length: 199, dtype: float64"
      ]
     },
     "execution_count": 186,
     "metadata": {},
     "output_type": "execute_result"
    }
   ],
   "source": [
    "result_radio"
   ]
  },
  {
   "cell_type": "code",
   "execution_count": 187,
   "id": "f21587f9",
   "metadata": {},
   "outputs": [],
   "source": [
    "df3 = pd.DataFrame(result)"
   ]
  },
  {
   "cell_type": "code",
   "execution_count": 188,
   "id": "c1f3d339",
   "metadata": {},
   "outputs": [],
   "source": [
    "newdf=concatenated_df.reset_index(drop=True) "
   ]
  },
  {
   "cell_type": "code",
   "execution_count": 189,
   "id": "64cbfe08",
   "metadata": {},
   "outputs": [],
   "source": [
    "newdf2=df3.reset_index(drop=True)"
   ]
  },
  {
   "cell_type": "code",
   "execution_count": 190,
   "id": "1c4fd863",
   "metadata": {},
   "outputs": [],
   "source": [
    "concatenated_df1=pd.concat([newdf,newdf2],axis=1)"
   ]
  },
  {
   "cell_type": "code",
   "execution_count": 191,
   "id": "da2d32f6",
   "metadata": {},
   "outputs": [
    {
     "data": {
      "text/html": [
       "<div>\n",
       "<style scoped>\n",
       "    .dataframe tbody tr th:only-of-type {\n",
       "        vertical-align: middle;\n",
       "    }\n",
       "\n",
       "    .dataframe tbody tr th {\n",
       "        vertical-align: top;\n",
       "    }\n",
       "\n",
       "    .dataframe thead th {\n",
       "        text-align: right;\n",
       "    }\n",
       "</style>\n",
       "<table border=\"1\" class=\"dataframe\">\n",
       "  <thead>\n",
       "    <tr style=\"text-align: right;\">\n",
       "      <th></th>\n",
       "      <th>TV</th>\n",
       "      <th>Radio</th>\n",
       "      <th>Newspaper</th>\n",
       "      <th>Sales</th>\n",
       "      <th>ROI_on_tv</th>\n",
       "      <th>0</th>\n",
       "    </tr>\n",
       "  </thead>\n",
       "  <tbody>\n",
       "    <tr>\n",
       "      <th>0</th>\n",
       "      <td>230.1</td>\n",
       "      <td>37.8</td>\n",
       "      <td>69.2</td>\n",
       "      <td>22.1</td>\n",
       "      <td>0.096045</td>\n",
       "      <td>0.096045</td>\n",
       "    </tr>\n",
       "    <tr>\n",
       "      <th>1</th>\n",
       "      <td>44.5</td>\n",
       "      <td>39.3</td>\n",
       "      <td>45.1</td>\n",
       "      <td>10.4</td>\n",
       "      <td>0.233708</td>\n",
       "      <td>0.233708</td>\n",
       "    </tr>\n",
       "    <tr>\n",
       "      <th>2</th>\n",
       "      <td>17.2</td>\n",
       "      <td>45.9</td>\n",
       "      <td>69.3</td>\n",
       "      <td>12.0</td>\n",
       "      <td>0.697674</td>\n",
       "      <td>0.697674</td>\n",
       "    </tr>\n",
       "    <tr>\n",
       "      <th>3</th>\n",
       "      <td>151.5</td>\n",
       "      <td>41.3</td>\n",
       "      <td>58.5</td>\n",
       "      <td>16.5</td>\n",
       "      <td>0.108911</td>\n",
       "      <td>0.108911</td>\n",
       "    </tr>\n",
       "    <tr>\n",
       "      <th>4</th>\n",
       "      <td>180.8</td>\n",
       "      <td>10.8</td>\n",
       "      <td>58.4</td>\n",
       "      <td>17.9</td>\n",
       "      <td>0.099004</td>\n",
       "      <td>0.099004</td>\n",
       "    </tr>\n",
       "  </tbody>\n",
       "</table>\n",
       "</div>"
      ],
      "text/plain": [
       "      TV  Radio  Newspaper  Sales  ROI_on_tv         0\n",
       "0  230.1   37.8       69.2   22.1   0.096045  0.096045\n",
       "1   44.5   39.3       45.1   10.4   0.233708  0.233708\n",
       "2   17.2   45.9       69.3   12.0   0.697674  0.697674\n",
       "3  151.5   41.3       58.5   16.5   0.108911  0.108911\n",
       "4  180.8   10.8       58.4   17.9   0.099004  0.099004"
      ]
     },
     "execution_count": 191,
     "metadata": {},
     "output_type": "execute_result"
    }
   ],
   "source": [
    "concatenated_df1.head()"
   ]
  },
  {
   "cell_type": "code",
   "execution_count": 192,
   "id": "9f74ccc7",
   "metadata": {},
   "outputs": [],
   "source": [
    "concatenated_df1 = concatenated_df1.rename(columns={0: 'ROI_on_radio'})"
   ]
  },
  {
   "cell_type": "code",
   "execution_count": 193,
   "id": "4c095471",
   "metadata": {},
   "outputs": [
    {
     "data": {
      "text/html": [
       "<div>\n",
       "<style scoped>\n",
       "    .dataframe tbody tr th:only-of-type {\n",
       "        vertical-align: middle;\n",
       "    }\n",
       "\n",
       "    .dataframe tbody tr th {\n",
       "        vertical-align: top;\n",
       "    }\n",
       "\n",
       "    .dataframe thead th {\n",
       "        text-align: right;\n",
       "    }\n",
       "</style>\n",
       "<table border=\"1\" class=\"dataframe\">\n",
       "  <thead>\n",
       "    <tr style=\"text-align: right;\">\n",
       "      <th></th>\n",
       "      <th>TV</th>\n",
       "      <th>Radio</th>\n",
       "      <th>Newspaper</th>\n",
       "      <th>Sales</th>\n",
       "      <th>ROI_on_tv</th>\n",
       "      <th>ROI_on_radio</th>\n",
       "    </tr>\n",
       "  </thead>\n",
       "  <tbody>\n",
       "    <tr>\n",
       "      <th>0</th>\n",
       "      <td>230.1</td>\n",
       "      <td>37.8</td>\n",
       "      <td>69.2</td>\n",
       "      <td>22.1</td>\n",
       "      <td>0.096045</td>\n",
       "      <td>0.096045</td>\n",
       "    </tr>\n",
       "    <tr>\n",
       "      <th>1</th>\n",
       "      <td>44.5</td>\n",
       "      <td>39.3</td>\n",
       "      <td>45.1</td>\n",
       "      <td>10.4</td>\n",
       "      <td>0.233708</td>\n",
       "      <td>0.233708</td>\n",
       "    </tr>\n",
       "    <tr>\n",
       "      <th>2</th>\n",
       "      <td>17.2</td>\n",
       "      <td>45.9</td>\n",
       "      <td>69.3</td>\n",
       "      <td>12.0</td>\n",
       "      <td>0.697674</td>\n",
       "      <td>0.697674</td>\n",
       "    </tr>\n",
       "    <tr>\n",
       "      <th>3</th>\n",
       "      <td>151.5</td>\n",
       "      <td>41.3</td>\n",
       "      <td>58.5</td>\n",
       "      <td>16.5</td>\n",
       "      <td>0.108911</td>\n",
       "      <td>0.108911</td>\n",
       "    </tr>\n",
       "    <tr>\n",
       "      <th>4</th>\n",
       "      <td>180.8</td>\n",
       "      <td>10.8</td>\n",
       "      <td>58.4</td>\n",
       "      <td>17.9</td>\n",
       "      <td>0.099004</td>\n",
       "      <td>0.099004</td>\n",
       "    </tr>\n",
       "  </tbody>\n",
       "</table>\n",
       "</div>"
      ],
      "text/plain": [
       "      TV  Radio  Newspaper  Sales  ROI_on_tv  ROI_on_radio\n",
       "0  230.1   37.8       69.2   22.1   0.096045      0.096045\n",
       "1   44.5   39.3       45.1   10.4   0.233708      0.233708\n",
       "2   17.2   45.9       69.3   12.0   0.697674      0.697674\n",
       "3  151.5   41.3       58.5   16.5   0.108911      0.108911\n",
       "4  180.8   10.8       58.4   17.9   0.099004      0.099004"
      ]
     },
     "execution_count": 193,
     "metadata": {},
     "output_type": "execute_result"
    }
   ],
   "source": [
    "concatenated_df1.head()"
   ]
  },
  {
   "cell_type": "code",
   "execution_count": 194,
   "id": "4fa192a5",
   "metadata": {},
   "outputs": [],
   "source": [
    "#Roi on newspaper"
   ]
  },
  {
   "cell_type": "code",
   "execution_count": 195,
   "id": "06484c70",
   "metadata": {},
   "outputs": [],
   "source": [
    "df_filtered = df[df['Newspaper'] > 0]  # Filter for rows with TV expenditure greater than zero\n",
    "result_radio = df_filtered[\"Sales\"] / df_filtered['Newspaper']  # Perform division on filtered DataFrame"
   ]
  },
  {
   "cell_type": "code",
   "execution_count": 196,
   "id": "0974ceed",
   "metadata": {},
   "outputs": [],
   "source": [
    "df4 = pd.DataFrame(result_radio)"
   ]
  },
  {
   "cell_type": "code",
   "execution_count": 197,
   "id": "b4946526",
   "metadata": {},
   "outputs": [],
   "source": [
    "newdf=concatenated_df.reset_index(drop=True) "
   ]
  },
  {
   "cell_type": "code",
   "execution_count": 198,
   "id": "447e5e8d",
   "metadata": {},
   "outputs": [],
   "source": [
    "newdf2=df4.reset_index(drop=True)"
   ]
  },
  {
   "cell_type": "code",
   "execution_count": 199,
   "id": "d43743ee",
   "metadata": {},
   "outputs": [],
   "source": [
    "concatenated_df2=pd.concat([concatenated_df1,newdf2],axis=1)"
   ]
  },
  {
   "cell_type": "code",
   "execution_count": 200,
   "id": "42cc505a",
   "metadata": {},
   "outputs": [
    {
     "data": {
      "text/html": [
       "<div>\n",
       "<style scoped>\n",
       "    .dataframe tbody tr th:only-of-type {\n",
       "        vertical-align: middle;\n",
       "    }\n",
       "\n",
       "    .dataframe tbody tr th {\n",
       "        vertical-align: top;\n",
       "    }\n",
       "\n",
       "    .dataframe thead th {\n",
       "        text-align: right;\n",
       "    }\n",
       "</style>\n",
       "<table border=\"1\" class=\"dataframe\">\n",
       "  <thead>\n",
       "    <tr style=\"text-align: right;\">\n",
       "      <th></th>\n",
       "      <th>TV</th>\n",
       "      <th>Radio</th>\n",
       "      <th>Newspaper</th>\n",
       "      <th>Sales</th>\n",
       "      <th>ROI_on_tv</th>\n",
       "      <th>ROI_on_radio</th>\n",
       "      <th>0</th>\n",
       "    </tr>\n",
       "  </thead>\n",
       "  <tbody>\n",
       "    <tr>\n",
       "      <th>0</th>\n",
       "      <td>230.1</td>\n",
       "      <td>37.8</td>\n",
       "      <td>69.2</td>\n",
       "      <td>22.1</td>\n",
       "      <td>0.096045</td>\n",
       "      <td>0.096045</td>\n",
       "      <td>0.319364</td>\n",
       "    </tr>\n",
       "    <tr>\n",
       "      <th>1</th>\n",
       "      <td>44.5</td>\n",
       "      <td>39.3</td>\n",
       "      <td>45.1</td>\n",
       "      <td>10.4</td>\n",
       "      <td>0.233708</td>\n",
       "      <td>0.233708</td>\n",
       "      <td>0.230599</td>\n",
       "    </tr>\n",
       "    <tr>\n",
       "      <th>2</th>\n",
       "      <td>17.2</td>\n",
       "      <td>45.9</td>\n",
       "      <td>69.3</td>\n",
       "      <td>12.0</td>\n",
       "      <td>0.697674</td>\n",
       "      <td>0.697674</td>\n",
       "      <td>0.173160</td>\n",
       "    </tr>\n",
       "    <tr>\n",
       "      <th>3</th>\n",
       "      <td>151.5</td>\n",
       "      <td>41.3</td>\n",
       "      <td>58.5</td>\n",
       "      <td>16.5</td>\n",
       "      <td>0.108911</td>\n",
       "      <td>0.108911</td>\n",
       "      <td>0.282051</td>\n",
       "    </tr>\n",
       "    <tr>\n",
       "      <th>4</th>\n",
       "      <td>180.8</td>\n",
       "      <td>10.8</td>\n",
       "      <td>58.4</td>\n",
       "      <td>17.9</td>\n",
       "      <td>0.099004</td>\n",
       "      <td>0.099004</td>\n",
       "      <td>0.306507</td>\n",
       "    </tr>\n",
       "  </tbody>\n",
       "</table>\n",
       "</div>"
      ],
      "text/plain": [
       "      TV  Radio  Newspaper  Sales  ROI_on_tv  ROI_on_radio         0\n",
       "0  230.1   37.8       69.2   22.1   0.096045      0.096045  0.319364\n",
       "1   44.5   39.3       45.1   10.4   0.233708      0.233708  0.230599\n",
       "2   17.2   45.9       69.3   12.0   0.697674      0.697674  0.173160\n",
       "3  151.5   41.3       58.5   16.5   0.108911      0.108911  0.282051\n",
       "4  180.8   10.8       58.4   17.9   0.099004      0.099004  0.306507"
      ]
     },
     "execution_count": 200,
     "metadata": {},
     "output_type": "execute_result"
    }
   ],
   "source": [
    "concatenated_df2.head()"
   ]
  },
  {
   "cell_type": "code",
   "execution_count": 201,
   "id": "d015e785",
   "metadata": {},
   "outputs": [],
   "source": [
    "concatenated_df2 = concatenated_df2.rename(columns={0: 'ROI_on_newspaper'})"
   ]
  },
  {
   "cell_type": "code",
   "execution_count": 202,
   "id": "ba966936",
   "metadata": {},
   "outputs": [
    {
     "data": {
      "text/html": [
       "<div>\n",
       "<style scoped>\n",
       "    .dataframe tbody tr th:only-of-type {\n",
       "        vertical-align: middle;\n",
       "    }\n",
       "\n",
       "    .dataframe tbody tr th {\n",
       "        vertical-align: top;\n",
       "    }\n",
       "\n",
       "    .dataframe thead th {\n",
       "        text-align: right;\n",
       "    }\n",
       "</style>\n",
       "<table border=\"1\" class=\"dataframe\">\n",
       "  <thead>\n",
       "    <tr style=\"text-align: right;\">\n",
       "      <th></th>\n",
       "      <th>TV</th>\n",
       "      <th>Radio</th>\n",
       "      <th>Newspaper</th>\n",
       "      <th>Sales</th>\n",
       "      <th>ROI_on_tv</th>\n",
       "      <th>ROI_on_radio</th>\n",
       "      <th>ROI_on_newspaper</th>\n",
       "    </tr>\n",
       "  </thead>\n",
       "  <tbody>\n",
       "    <tr>\n",
       "      <th>0</th>\n",
       "      <td>230.1</td>\n",
       "      <td>37.8</td>\n",
       "      <td>69.2</td>\n",
       "      <td>22.1</td>\n",
       "      <td>0.096045</td>\n",
       "      <td>0.096045</td>\n",
       "      <td>0.319364</td>\n",
       "    </tr>\n",
       "    <tr>\n",
       "      <th>1</th>\n",
       "      <td>44.5</td>\n",
       "      <td>39.3</td>\n",
       "      <td>45.1</td>\n",
       "      <td>10.4</td>\n",
       "      <td>0.233708</td>\n",
       "      <td>0.233708</td>\n",
       "      <td>0.230599</td>\n",
       "    </tr>\n",
       "    <tr>\n",
       "      <th>2</th>\n",
       "      <td>17.2</td>\n",
       "      <td>45.9</td>\n",
       "      <td>69.3</td>\n",
       "      <td>12.0</td>\n",
       "      <td>0.697674</td>\n",
       "      <td>0.697674</td>\n",
       "      <td>0.173160</td>\n",
       "    </tr>\n",
       "    <tr>\n",
       "      <th>3</th>\n",
       "      <td>151.5</td>\n",
       "      <td>41.3</td>\n",
       "      <td>58.5</td>\n",
       "      <td>16.5</td>\n",
       "      <td>0.108911</td>\n",
       "      <td>0.108911</td>\n",
       "      <td>0.282051</td>\n",
       "    </tr>\n",
       "    <tr>\n",
       "      <th>4</th>\n",
       "      <td>180.8</td>\n",
       "      <td>10.8</td>\n",
       "      <td>58.4</td>\n",
       "      <td>17.9</td>\n",
       "      <td>0.099004</td>\n",
       "      <td>0.099004</td>\n",
       "      <td>0.306507</td>\n",
       "    </tr>\n",
       "  </tbody>\n",
       "</table>\n",
       "</div>"
      ],
      "text/plain": [
       "      TV  Radio  Newspaper  Sales  ROI_on_tv  ROI_on_radio  ROI_on_newspaper\n",
       "0  230.1   37.8       69.2   22.1   0.096045      0.096045          0.319364\n",
       "1   44.5   39.3       45.1   10.4   0.233708      0.233708          0.230599\n",
       "2   17.2   45.9       69.3   12.0   0.697674      0.697674          0.173160\n",
       "3  151.5   41.3       58.5   16.5   0.108911      0.108911          0.282051\n",
       "4  180.8   10.8       58.4   17.9   0.099004      0.099004          0.306507"
      ]
     },
     "execution_count": 202,
     "metadata": {},
     "output_type": "execute_result"
    }
   ],
   "source": [
    "concatenated_df2.head()"
   ]
  },
  {
   "cell_type": "code",
   "execution_count": 203,
   "id": "52b67358",
   "metadata": {},
   "outputs": [
    {
     "data": {
      "text/plain": [
       "<Axes: >"
      ]
     },
     "execution_count": 203,
     "metadata": {},
     "output_type": "execute_result"
    },
    {
     "data": {
      "image/png": "[encoded data removed]",
      "text/plain": [
       "<Figure size 640x480 with 1 Axes>"
      ]
     },
     "metadata": {},
     "output_type": "display_data"
    }
   ],
   "source": [
    "sns.heatmap(concatenated_df2.isnull(),yticklabels=False,cbar=False,cmap='viridis')"
   ]
  },
  {
   "cell_type": "code",
   "execution_count": 204,
   "id": "bebbfd5d",
   "metadata": {},
   "outputs": [
    {
     "data": {
      "text/plain": [
       "<Axes: xlabel='TV', ylabel='ROI_on_tv'>"
      ]
     },
     "execution_count": 204,
     "metadata": {},
     "output_type": "execute_result"
    },
    {
     "data": {
      "image/png": "[encoded data removed]",
      "text/plain": [
       "<Figure size 640x480 with 1 Axes>"
      ]
     },
     "metadata": {},
     "output_type": "display_data"
    }
   ],
   "source": [
    "sns.scatterplot(x='TV', y='ROI_on_tv', data=concatenated_df2)"
   ]
  },
  {
   "cell_type": "code",
   "execution_count": 205,
   "id": "fbefc380",
   "metadata": {},
   "outputs": [
    {
     "data": {
      "text/plain": [
       "<Axes: xlabel='Radio', ylabel='ROI_on_radio'>"
      ]
     },
     "execution_count": 205,
     "metadata": {},
     "output_type": "execute_result"
    },
    {
     "data": {
      "image/png": "[encoded data removed]",
      "text/plain": [
       "<Figure size 640x480 with 1 Axes>"
      ]
     },
     "metadata": {},
     "output_type": "display_data"
    }
   ],
   "source": [
    "sns.scatterplot(x='Radio', y='ROI_on_radio', data=concatenated_df2)"
   ]
  },
  {
   "cell_type": "code",
   "execution_count": 206,
   "id": "67cd7594",
   "metadata": {},
   "outputs": [
    {
     "data": {
      "text/plain": [
       "<Axes: xlabel='Newspaper', ylabel='ROI_on_newspaper'>"
      ]
     },
     "execution_count": 206,
     "metadata": {},
     "output_type": "execute_result"
    },
    {
     "data": {
      "image/png": "[encoded data removed]",
      "text/plain": [
       "<Figure size 640x480 with 1 Axes>"
      ]
     },
     "metadata": {},
     "output_type": "display_data"
    }
   ],
   "source": [
    "sns.scatterplot(x='Newspaper', y='ROI_on_newspaper', data=concatenated_df2)"
   ]
  },
  {
   "cell_type": "code",
   "execution_count": 207,
   "id": "faf33d5b",
   "metadata": {},
   "outputs": [],
   "source": [
    "concatenated_df2['Total Advertising']=df['TV']+df['Radio']+df['Newspaper']"
   ]
  },
  {
   "cell_type": "code",
   "execution_count": 208,
   "id": "5dea2b4e",
   "metadata": {},
   "outputs": [
    {
     "data": {
      "text/html": [
       "<div>\n",
       "<style scoped>\n",
       "    .dataframe tbody tr th:only-of-type {\n",
       "        vertical-align: middle;\n",
       "    }\n",
       "\n",
       "    .dataframe tbody tr th {\n",
       "        vertical-align: top;\n",
       "    }\n",
       "\n",
       "    .dataframe thead th {\n",
       "        text-align: right;\n",
       "    }\n",
       "</style>\n",
       "<table border=\"1\" class=\"dataframe\">\n",
       "  <thead>\n",
       "    <tr style=\"text-align: right;\">\n",
       "      <th></th>\n",
       "      <th>TV</th>\n",
       "      <th>Radio</th>\n",
       "      <th>Newspaper</th>\n",
       "      <th>Sales</th>\n",
       "      <th>ROI_on_tv</th>\n",
       "      <th>ROI_on_radio</th>\n",
       "      <th>ROI_on_newspaper</th>\n",
       "      <th>Total Advertising</th>\n",
       "    </tr>\n",
       "  </thead>\n",
       "  <tbody>\n",
       "    <tr>\n",
       "      <th>0</th>\n",
       "      <td>230.1</td>\n",
       "      <td>37.8</td>\n",
       "      <td>69.2</td>\n",
       "      <td>22.1</td>\n",
       "      <td>0.096045</td>\n",
       "      <td>0.096045</td>\n",
       "      <td>0.319364</td>\n",
       "      <td>337.1</td>\n",
       "    </tr>\n",
       "    <tr>\n",
       "      <th>1</th>\n",
       "      <td>44.5</td>\n",
       "      <td>39.3</td>\n",
       "      <td>45.1</td>\n",
       "      <td>10.4</td>\n",
       "      <td>0.233708</td>\n",
       "      <td>0.233708</td>\n",
       "      <td>0.230599</td>\n",
       "      <td>128.9</td>\n",
       "    </tr>\n",
       "    <tr>\n",
       "      <th>2</th>\n",
       "      <td>17.2</td>\n",
       "      <td>45.9</td>\n",
       "      <td>69.3</td>\n",
       "      <td>12.0</td>\n",
       "      <td>0.697674</td>\n",
       "      <td>0.697674</td>\n",
       "      <td>0.173160</td>\n",
       "      <td>132.4</td>\n",
       "    </tr>\n",
       "    <tr>\n",
       "      <th>3</th>\n",
       "      <td>151.5</td>\n",
       "      <td>41.3</td>\n",
       "      <td>58.5</td>\n",
       "      <td>16.5</td>\n",
       "      <td>0.108911</td>\n",
       "      <td>0.108911</td>\n",
       "      <td>0.282051</td>\n",
       "      <td>251.3</td>\n",
       "    </tr>\n",
       "    <tr>\n",
       "      <th>4</th>\n",
       "      <td>180.8</td>\n",
       "      <td>10.8</td>\n",
       "      <td>58.4</td>\n",
       "      <td>17.9</td>\n",
       "      <td>0.099004</td>\n",
       "      <td>0.099004</td>\n",
       "      <td>0.306507</td>\n",
       "      <td>250.0</td>\n",
       "    </tr>\n",
       "  </tbody>\n",
       "</table>\n",
       "</div>"
      ],
      "text/plain": [
       "      TV  Radio  Newspaper  Sales  ROI_on_tv  ROI_on_radio  ROI_on_newspaper  \\\n",
       "0  230.1   37.8       69.2   22.1   0.096045      0.096045          0.319364   \n",
       "1   44.5   39.3       45.1   10.4   0.233708      0.233708          0.230599   \n",
       "2   17.2   45.9       69.3   12.0   0.697674      0.697674          0.173160   \n",
       "3  151.5   41.3       58.5   16.5   0.108911      0.108911          0.282051   \n",
       "4  180.8   10.8       58.4   17.9   0.099004      0.099004          0.306507   \n",
       "\n",
       "   Total Advertising  \n",
       "0              337.1  \n",
       "1              128.9  \n",
       "2              132.4  \n",
       "3              251.3  \n",
       "4              250.0  "
      ]
     },
     "execution_count": 208,
     "metadata": {},
     "output_type": "execute_result"
    }
   ],
   "source": [
    "concatenated_df2.head()"
   ]
  },
  {
   "cell_type": "code",
   "execution_count": 209,
   "id": "7051ab4b",
   "metadata": {},
   "outputs": [],
   "source": [
    "concatenated_df2['TV Spend Ratio']=concatenated_df2[\"TV\"] / concatenated_df2[\"Total Advertising\"]"
   ]
  },
  {
   "cell_type": "code",
   "execution_count": 210,
   "id": "89461a80",
   "metadata": {},
   "outputs": [
    {
     "data": {
      "text/html": [
       "<div>\n",
       "<style scoped>\n",
       "    .dataframe tbody tr th:only-of-type {\n",
       "        vertical-align: middle;\n",
       "    }\n",
       "\n",
       "    .dataframe tbody tr th {\n",
       "        vertical-align: top;\n",
       "    }\n",
       "\n",
       "    .dataframe thead th {\n",
       "        text-align: right;\n",
       "    }\n",
       "</style>\n",
       "<table border=\"1\" class=\"dataframe\">\n",
       "  <thead>\n",
       "    <tr style=\"text-align: right;\">\n",
       "      <th></th>\n",
       "      <th>TV</th>\n",
       "      <th>Radio</th>\n",
       "      <th>Newspaper</th>\n",
       "      <th>Sales</th>\n",
       "      <th>ROI_on_tv</th>\n",
       "      <th>ROI_on_radio</th>\n",
       "      <th>ROI_on_newspaper</th>\n",
       "      <th>Total Advertising</th>\n",
       "      <th>TV Spend Ratio</th>\n",
       "    </tr>\n",
       "  </thead>\n",
       "  <tbody>\n",
       "    <tr>\n",
       "      <th>0</th>\n",
       "      <td>230.1</td>\n",
       "      <td>37.8</td>\n",
       "      <td>69.2</td>\n",
       "      <td>22.1</td>\n",
       "      <td>0.096045</td>\n",
       "      <td>0.096045</td>\n",
       "      <td>0.319364</td>\n",
       "      <td>337.1</td>\n",
       "      <td>0.682587</td>\n",
       "    </tr>\n",
       "    <tr>\n",
       "      <th>1</th>\n",
       "      <td>44.5</td>\n",
       "      <td>39.3</td>\n",
       "      <td>45.1</td>\n",
       "      <td>10.4</td>\n",
       "      <td>0.233708</td>\n",
       "      <td>0.233708</td>\n",
       "      <td>0.230599</td>\n",
       "      <td>128.9</td>\n",
       "      <td>0.345229</td>\n",
       "    </tr>\n",
       "    <tr>\n",
       "      <th>2</th>\n",
       "      <td>17.2</td>\n",
       "      <td>45.9</td>\n",
       "      <td>69.3</td>\n",
       "      <td>12.0</td>\n",
       "      <td>0.697674</td>\n",
       "      <td>0.697674</td>\n",
       "      <td>0.173160</td>\n",
       "      <td>132.4</td>\n",
       "      <td>0.129909</td>\n",
       "    </tr>\n",
       "    <tr>\n",
       "      <th>3</th>\n",
       "      <td>151.5</td>\n",
       "      <td>41.3</td>\n",
       "      <td>58.5</td>\n",
       "      <td>16.5</td>\n",
       "      <td>0.108911</td>\n",
       "      <td>0.108911</td>\n",
       "      <td>0.282051</td>\n",
       "      <td>251.3</td>\n",
       "      <td>0.602865</td>\n",
       "    </tr>\n",
       "    <tr>\n",
       "      <th>4</th>\n",
       "      <td>180.8</td>\n",
       "      <td>10.8</td>\n",
       "      <td>58.4</td>\n",
       "      <td>17.9</td>\n",
       "      <td>0.099004</td>\n",
       "      <td>0.099004</td>\n",
       "      <td>0.306507</td>\n",
       "      <td>250.0</td>\n",
       "      <td>0.723200</td>\n",
       "    </tr>\n",
       "  </tbody>\n",
       "</table>\n",
       "</div>"
      ],
      "text/plain": [
       "      TV  Radio  Newspaper  Sales  ROI_on_tv  ROI_on_radio  ROI_on_newspaper  \\\n",
       "0  230.1   37.8       69.2   22.1   0.096045      0.096045          0.319364   \n",
       "1   44.5   39.3       45.1   10.4   0.233708      0.233708          0.230599   \n",
       "2   17.2   45.9       69.3   12.0   0.697674      0.697674          0.173160   \n",
       "3  151.5   41.3       58.5   16.5   0.108911      0.108911          0.282051   \n",
       "4  180.8   10.8       58.4   17.9   0.099004      0.099004          0.306507   \n",
       "\n",
       "   Total Advertising  TV Spend Ratio  \n",
       "0              337.1        0.682587  \n",
       "1              128.9        0.345229  \n",
       "2              132.4        0.129909  \n",
       "3              251.3        0.602865  \n",
       "4              250.0        0.723200  "
      ]
     },
     "execution_count": 210,
     "metadata": {},
     "output_type": "execute_result"
    }
   ],
   "source": [
    "concatenated_df2.head()"
   ]
  },
  {
   "cell_type": "code",
   "execution_count": 211,
   "id": "b8e15b86",
   "metadata": {},
   "outputs": [],
   "source": [
    "concatenated_df2['Radio Spend Ratio']=concatenated_df2[\"Radio\"] / concatenated_df2[\"Total Advertising\"]"
   ]
  },
  {
   "cell_type": "code",
   "execution_count": 212,
   "id": "21ef5683",
   "metadata": {},
   "outputs": [
    {
     "data": {
      "text/html": [
       "<div>\n",
       "<style scoped>\n",
       "    .dataframe tbody tr th:only-of-type {\n",
       "        vertical-align: middle;\n",
       "    }\n",
       "\n",
       "    .dataframe tbody tr th {\n",
       "        vertical-align: top;\n",
       "    }\n",
       "\n",
       "    .dataframe thead th {\n",
       "        text-align: right;\n",
       "    }\n",
       "</style>\n",
       "<table border=\"1\" class=\"dataframe\">\n",
       "  <thead>\n",
       "    <tr style=\"text-align: right;\">\n",
       "      <th></th>\n",
       "      <th>TV</th>\n",
       "      <th>Radio</th>\n",
       "      <th>Newspaper</th>\n",
       "      <th>Sales</th>\n",
       "      <th>ROI_on_tv</th>\n",
       "      <th>ROI_on_radio</th>\n",
       "      <th>ROI_on_newspaper</th>\n",
       "      <th>Total Advertising</th>\n",
       "      <th>TV Spend Ratio</th>\n",
       "      <th>Radio Spend Ratio</th>\n",
       "    </tr>\n",
       "  </thead>\n",
       "  <tbody>\n",
       "    <tr>\n",
       "      <th>0</th>\n",
       "      <td>230.1</td>\n",
       "      <td>37.8</td>\n",
       "      <td>69.2</td>\n",
       "      <td>22.1</td>\n",
       "      <td>0.096045</td>\n",
       "      <td>0.096045</td>\n",
       "      <td>0.319364</td>\n",
       "      <td>337.1</td>\n",
       "      <td>0.682587</td>\n",
       "      <td>0.112133</td>\n",
       "    </tr>\n",
       "    <tr>\n",
       "      <th>1</th>\n",
       "      <td>44.5</td>\n",
       "      <td>39.3</td>\n",
       "      <td>45.1</td>\n",
       "      <td>10.4</td>\n",
       "      <td>0.233708</td>\n",
       "      <td>0.233708</td>\n",
       "      <td>0.230599</td>\n",
       "      <td>128.9</td>\n",
       "      <td>0.345229</td>\n",
       "      <td>0.304888</td>\n",
       "    </tr>\n",
       "    <tr>\n",
       "      <th>2</th>\n",
       "      <td>17.2</td>\n",
       "      <td>45.9</td>\n",
       "      <td>69.3</td>\n",
       "      <td>12.0</td>\n",
       "      <td>0.697674</td>\n",
       "      <td>0.697674</td>\n",
       "      <td>0.173160</td>\n",
       "      <td>132.4</td>\n",
       "      <td>0.129909</td>\n",
       "      <td>0.346677</td>\n",
       "    </tr>\n",
       "    <tr>\n",
       "      <th>3</th>\n",
       "      <td>151.5</td>\n",
       "      <td>41.3</td>\n",
       "      <td>58.5</td>\n",
       "      <td>16.5</td>\n",
       "      <td>0.108911</td>\n",
       "      <td>0.108911</td>\n",
       "      <td>0.282051</td>\n",
       "      <td>251.3</td>\n",
       "      <td>0.602865</td>\n",
       "      <td>0.164345</td>\n",
       "    </tr>\n",
       "    <tr>\n",
       "      <th>4</th>\n",
       "      <td>180.8</td>\n",
       "      <td>10.8</td>\n",
       "      <td>58.4</td>\n",
       "      <td>17.9</td>\n",
       "      <td>0.099004</td>\n",
       "      <td>0.099004</td>\n",
       "      <td>0.306507</td>\n",
       "      <td>250.0</td>\n",
       "      <td>0.723200</td>\n",
       "      <td>0.043200</td>\n",
       "    </tr>\n",
       "    <tr>\n",
       "      <th>...</th>\n",
       "      <td>...</td>\n",
       "      <td>...</td>\n",
       "      <td>...</td>\n",
       "      <td>...</td>\n",
       "      <td>...</td>\n",
       "      <td>...</td>\n",
       "      <td>...</td>\n",
       "      <td>...</td>\n",
       "      <td>...</td>\n",
       "      <td>...</td>\n",
       "    </tr>\n",
       "    <tr>\n",
       "      <th>195</th>\n",
       "      <td>38.2</td>\n",
       "      <td>3.7</td>\n",
       "      <td>13.8</td>\n",
       "      <td>7.6</td>\n",
       "      <td>0.198953</td>\n",
       "      <td>0.198953</td>\n",
       "      <td>0.550725</td>\n",
       "      <td>55.7</td>\n",
       "      <td>0.685817</td>\n",
       "      <td>0.066427</td>\n",
       "    </tr>\n",
       "    <tr>\n",
       "      <th>196</th>\n",
       "      <td>94.2</td>\n",
       "      <td>4.9</td>\n",
       "      <td>8.1</td>\n",
       "      <td>14.0</td>\n",
       "      <td>0.148620</td>\n",
       "      <td>0.148620</td>\n",
       "      <td>1.728395</td>\n",
       "      <td>107.2</td>\n",
       "      <td>0.878731</td>\n",
       "      <td>0.045709</td>\n",
       "    </tr>\n",
       "    <tr>\n",
       "      <th>197</th>\n",
       "      <td>177.0</td>\n",
       "      <td>9.3</td>\n",
       "      <td>6.4</td>\n",
       "      <td>14.8</td>\n",
       "      <td>0.083616</td>\n",
       "      <td>0.083616</td>\n",
       "      <td>2.312500</td>\n",
       "      <td>192.7</td>\n",
       "      <td>0.918526</td>\n",
       "      <td>0.048262</td>\n",
       "    </tr>\n",
       "    <tr>\n",
       "      <th>198</th>\n",
       "      <td>283.6</td>\n",
       "      <td>42.0</td>\n",
       "      <td>66.2</td>\n",
       "      <td>25.5</td>\n",
       "      <td>0.089915</td>\n",
       "      <td>0.089915</td>\n",
       "      <td>0.385196</td>\n",
       "      <td>391.8</td>\n",
       "      <td>0.723839</td>\n",
       "      <td>0.107198</td>\n",
       "    </tr>\n",
       "    <tr>\n",
       "      <th>199</th>\n",
       "      <td>232.1</td>\n",
       "      <td>8.6</td>\n",
       "      <td>8.7</td>\n",
       "      <td>18.4</td>\n",
       "      <td>0.079276</td>\n",
       "      <td>0.079276</td>\n",
       "      <td>2.114943</td>\n",
       "      <td>249.4</td>\n",
       "      <td>0.930634</td>\n",
       "      <td>0.034483</td>\n",
       "    </tr>\n",
       "  </tbody>\n",
       "</table>\n",
       "<p>200 rows × 10 columns</p>\n",
       "</div>"
      ],
      "text/plain": [
       "        TV  Radio  Newspaper  Sales  ROI_on_tv  ROI_on_radio  \\\n",
       "0    230.1   37.8       69.2   22.1   0.096045      0.096045   \n",
       "1     44.5   39.3       45.1   10.4   0.233708      0.233708   \n",
       "2     17.2   45.9       69.3   12.0   0.697674      0.697674   \n",
       "3    151.5   41.3       58.5   16.5   0.108911      0.108911   \n",
       "4    180.8   10.8       58.4   17.9   0.099004      0.099004   \n",
       "..     ...    ...        ...    ...        ...           ...   \n",
       "195   38.2    3.7       13.8    7.6   0.198953      0.198953   \n",
       "196   94.2    4.9        8.1   14.0   0.148620      0.148620   \n",
       "197  177.0    9.3        6.4   14.8   0.083616      0.083616   \n",
       "198  283.6   42.0       66.2   25.5   0.089915      0.089915   \n",
       "199  232.1    8.6        8.7   18.4   0.079276      0.079276   \n",
       "\n",
       "     ROI_on_newspaper  Total Advertising  TV Spend Ratio  Radio Spend Ratio  \n",
       "0            0.319364              337.1        0.682587           0.112133  \n",
       "1            0.230599              128.9        0.345229           0.304888  \n",
       "2            0.173160              132.4        0.129909           0.346677  \n",
       "3            0.282051              251.3        0.602865           0.164345  \n",
       "4            0.306507              250.0        0.723200           0.043200  \n",
       "..                ...                ...             ...                ...  \n",
       "195          0.550725               55.7        0.685817           0.066427  \n",
       "196          1.728395              107.2        0.878731           0.045709  \n",
       "197          2.312500              192.7        0.918526           0.048262  \n",
       "198          0.385196              391.8        0.723839           0.107198  \n",
       "199          2.114943              249.4        0.930634           0.034483  \n",
       "\n",
       "[200 rows x 10 columns]"
      ]
     },
     "execution_count": 212,
     "metadata": {},
     "output_type": "execute_result"
    }
   ],
   "source": [
    "concatenated_df2"
   ]
  },
  {
   "cell_type": "code",
   "execution_count": 213,
   "id": "1d8eb499",
   "metadata": {},
   "outputs": [],
   "source": [
    "concatenated_df2['Newspaper Spend Ratio']=concatenated_df2[\"Newspaper\"] / concatenated_df2[\"Total Advertising\"]"
   ]
  },
  {
   "cell_type": "code",
   "execution_count": 214,
   "id": "ec289a2d",
   "metadata": {},
   "outputs": [
    {
     "data": {
      "text/html": [
       "<div>\n",
       "<style scoped>\n",
       "    .dataframe tbody tr th:only-of-type {\n",
       "        vertical-align: middle;\n",
       "    }\n",
       "\n",
       "    .dataframe tbody tr th {\n",
       "        vertical-align: top;\n",
       "    }\n",
       "\n",
       "    .dataframe thead th {\n",
       "        text-align: right;\n",
       "    }\n",
       "</style>\n",
       "<table border=\"1\" class=\"dataframe\">\n",
       "  <thead>\n",
       "    <tr style=\"text-align: right;\">\n",
       "      <th></th>\n",
       "      <th>TV</th>\n",
       "      <th>Radio</th>\n",
       "      <th>Newspaper</th>\n",
       "      <th>Sales</th>\n",
       "      <th>ROI_on_tv</th>\n",
       "      <th>ROI_on_radio</th>\n",
       "      <th>ROI_on_newspaper</th>\n",
       "      <th>Total Advertising</th>\n",
       "      <th>TV Spend Ratio</th>\n",
       "      <th>Radio Spend Ratio</th>\n",
       "      <th>Newspaper Spend Ratio</th>\n",
       "    </tr>\n",
       "  </thead>\n",
       "  <tbody>\n",
       "    <tr>\n",
       "      <th>0</th>\n",
       "      <td>230.1</td>\n",
       "      <td>37.8</td>\n",
       "      <td>69.2</td>\n",
       "      <td>22.1</td>\n",
       "      <td>0.096045</td>\n",
       "      <td>0.096045</td>\n",
       "      <td>0.319364</td>\n",
       "      <td>337.1</td>\n",
       "      <td>0.682587</td>\n",
       "      <td>0.112133</td>\n",
       "      <td>0.205280</td>\n",
       "    </tr>\n",
       "    <tr>\n",
       "      <th>1</th>\n",
       "      <td>44.5</td>\n",
       "      <td>39.3</td>\n",
       "      <td>45.1</td>\n",
       "      <td>10.4</td>\n",
       "      <td>0.233708</td>\n",
       "      <td>0.233708</td>\n",
       "      <td>0.230599</td>\n",
       "      <td>128.9</td>\n",
       "      <td>0.345229</td>\n",
       "      <td>0.304888</td>\n",
       "      <td>0.349884</td>\n",
       "    </tr>\n",
       "    <tr>\n",
       "      <th>2</th>\n",
       "      <td>17.2</td>\n",
       "      <td>45.9</td>\n",
       "      <td>69.3</td>\n",
       "      <td>12.0</td>\n",
       "      <td>0.697674</td>\n",
       "      <td>0.697674</td>\n",
       "      <td>0.173160</td>\n",
       "      <td>132.4</td>\n",
       "      <td>0.129909</td>\n",
       "      <td>0.346677</td>\n",
       "      <td>0.523414</td>\n",
       "    </tr>\n",
       "    <tr>\n",
       "      <th>3</th>\n",
       "      <td>151.5</td>\n",
       "      <td>41.3</td>\n",
       "      <td>58.5</td>\n",
       "      <td>16.5</td>\n",
       "      <td>0.108911</td>\n",
       "      <td>0.108911</td>\n",
       "      <td>0.282051</td>\n",
       "      <td>251.3</td>\n",
       "      <td>0.602865</td>\n",
       "      <td>0.164345</td>\n",
       "      <td>0.232789</td>\n",
       "    </tr>\n",
       "    <tr>\n",
       "      <th>4</th>\n",
       "      <td>180.8</td>\n",
       "      <td>10.8</td>\n",
       "      <td>58.4</td>\n",
       "      <td>17.9</td>\n",
       "      <td>0.099004</td>\n",
       "      <td>0.099004</td>\n",
       "      <td>0.306507</td>\n",
       "      <td>250.0</td>\n",
       "      <td>0.723200</td>\n",
       "      <td>0.043200</td>\n",
       "      <td>0.233600</td>\n",
       "    </tr>\n",
       "  </tbody>\n",
       "</table>\n",
       "</div>"
      ],
      "text/plain": [
       "      TV  Radio  Newspaper  Sales  ROI_on_tv  ROI_on_radio  ROI_on_newspaper  \\\n",
       "0  230.1   37.8       69.2   22.1   0.096045      0.096045          0.319364   \n",
       "1   44.5   39.3       45.1   10.4   0.233708      0.233708          0.230599   \n",
       "2   17.2   45.9       69.3   12.0   0.697674      0.697674          0.173160   \n",
       "3  151.5   41.3       58.5   16.5   0.108911      0.108911          0.282051   \n",
       "4  180.8   10.8       58.4   17.9   0.099004      0.099004          0.306507   \n",
       "\n",
       "   Total Advertising  TV Spend Ratio  Radio Spend Ratio  Newspaper Spend Ratio  \n",
       "0              337.1        0.682587           0.112133               0.205280  \n",
       "1              128.9        0.345229           0.304888               0.349884  \n",
       "2              132.4        0.129909           0.346677               0.523414  \n",
       "3              251.3        0.602865           0.164345               0.232789  \n",
       "4              250.0        0.723200           0.043200               0.233600  "
      ]
     },
     "execution_count": 214,
     "metadata": {},
     "output_type": "execute_result"
    }
   ],
   "source": [
    "concatenated_df2.head()"
   ]
  },
  {
   "cell_type": "code",
   "execution_count": 215,
   "id": "8b88f07f",
   "metadata": {},
   "outputs": [
    {
     "data": {
      "text/plain": [
       "<Axes: xlabel='Sales', ylabel='TV Spend Ratio'>"
      ]
     },
     "execution_count": 215,
     "metadata": {},
     "output_type": "execute_result"
    },
    {
     "data": {
      "image/png": "[encoded data removed]",
      "text/plain": [
       "<Figure size 640x480 with 1 Axes>"
      ]
     },
     "metadata": {},
     "output_type": "display_data"
    }
   ],
   "source": [
    "sns.scatterplot(x='Sales', y='TV Spend Ratio', data=concatenated_df2)"
   ]
  },
  {
   "cell_type": "code",
   "execution_count": 216,
   "id": "6e93f959",
   "metadata": {},
   "outputs": [
    {
     "data": {
      "text/plain": [
       "<Axes: xlabel='TV Spend Ratio', ylabel='ROI_on_tv'>"
      ]
     },
     "execution_count": 216,
     "metadata": {},
     "output_type": "execute_result"
    },
    {
     "data": {
      "image/png": "[encoded data removed]",
      "text/plain": [
       "<Figure size 640x480 with 1 Axes>"
      ]
     },
     "metadata": {},
     "output_type": "display_data"
    }
   ],
   "source": [
    "sns.scatterplot(x='TV Spend Ratio', y='ROI_on_tv', data=concatenated_df2)"
   ]
  },
  {
   "cell_type": "code",
   "execution_count": 217,
   "id": "4c78a885",
   "metadata": {},
   "outputs": [
    {
     "data": {
      "text/plain": [
       "<Axes: xlabel='Radio Spend Ratio', ylabel='ROI_on_radio'>"
      ]
     },
     "execution_count": 217,
     "metadata": {},
     "output_type": "execute_result"
    },
    {
     "data": {
      "image/png": "[encoded data removed]",
      "text/plain": [
       "<Figure size 640x480 with 1 Axes>"
      ]
     },
     "metadata": {},
     "output_type": "display_data"
    }
   ],
   "source": [
    "sns.scatterplot(x='Radio Spend Ratio', y='ROI_on_radio', data=concatenated_df2)"
   ]
  },
  {
   "cell_type": "code",
   "execution_count": 218,
   "id": "65876a53",
   "metadata": {},
   "outputs": [
    {
     "data": {
      "text/plain": [
       "<Axes: xlabel='Newspaper Spend Ratio', ylabel='ROI_on_newspaper'>"
      ]
     },
     "execution_count": 218,
     "metadata": {},
     "output_type": "execute_result"
    },
    {
     "data": {
      "image/png": "[encoded data removed]",
      "text/plain": [
       "<Figure size 640x480 with 1 Axes>"
      ]
     },
     "metadata": {},
     "output_type": "display_data"
    }
   ],
   "source": [
    "sns.scatterplot(x='Newspaper Spend Ratio', y='ROI_on_newspaper', data=concatenated_df2)"
   ]
  },
  {
   "cell_type": "code",
   "execution_count": 219,
   "id": "549a7c6a",
   "metadata": {},
   "outputs": [
    {
     "data": {
      "text/plain": [
       "Index(['TV', 'Radio', 'Newspaper', 'Sales', 'ROI_on_tv', 'ROI_on_radio',\n",
       "       'ROI_on_newspaper', 'Total Advertising', 'TV Spend Ratio',\n",
       "       'Radio Spend Ratio', 'Newspaper Spend Ratio'],\n",
       "      dtype='object')"
      ]
     },
     "execution_count": 219,
     "metadata": {},
     "output_type": "execute_result"
    }
   ],
   "source": [
    "concatenated_df2.columns"
   ]
  },
  {
   "cell_type": "code",
   "execution_count": 220,
   "id": "9e3c890d",
   "metadata": {},
   "outputs": [],
   "source": [
    "import statistics"
   ]
  },
  {
   "cell_type": "code",
   "execution_count": 221,
   "id": "abd40bc5",
   "metadata": {},
   "outputs": [
    {
     "data": {
      "text/plain": [
       "147.0425"
      ]
     },
     "execution_count": 221,
     "metadata": {},
     "output_type": "execute_result"
    }
   ],
   "source": [
    "concatenated_df2['TV'].mean()"
   ]
  },
  {
   "cell_type": "code",
   "execution_count": 222,
   "id": "c3b647f3",
   "metadata": {},
   "outputs": [
    {
     "data": {
      "text/plain": [
       "23.264000000000006"
      ]
     },
     "execution_count": 222,
     "metadata": {},
     "output_type": "execute_result"
    }
   ],
   "source": [
    "concatenated_df2['Radio'].mean()"
   ]
  },
  {
   "cell_type": "code",
   "execution_count": 223,
   "id": "b051534e",
   "metadata": {},
   "outputs": [
    {
     "data": {
      "text/plain": [
       "30.553999999999995"
      ]
     },
     "execution_count": 223,
     "metadata": {},
     "output_type": "execute_result"
    }
   ],
   "source": [
    "concatenated_df2['Newspaper'].mean()"
   ]
  },
  {
   "cell_type": "code",
   "execution_count": 224,
   "id": "2e3d4416",
   "metadata": {},
   "outputs": [
    {
     "data": {
      "text/html": [
       "<div>\n",
       "<style scoped>\n",
       "    .dataframe tbody tr th:only-of-type {\n",
       "        vertical-align: middle;\n",
       "    }\n",
       "\n",
       "    .dataframe tbody tr th {\n",
       "        vertical-align: top;\n",
       "    }\n",
       "\n",
       "    .dataframe thead th {\n",
       "        text-align: right;\n",
       "    }\n",
       "</style>\n",
       "<table border=\"1\" class=\"dataframe\">\n",
       "  <thead>\n",
       "    <tr style=\"text-align: right;\">\n",
       "      <th></th>\n",
       "      <th>TV</th>\n",
       "      <th>Radio</th>\n",
       "      <th>Newspaper</th>\n",
       "      <th>Sales</th>\n",
       "      <th>ROI_on_tv</th>\n",
       "      <th>ROI_on_radio</th>\n",
       "      <th>ROI_on_newspaper</th>\n",
       "      <th>Total Advertising</th>\n",
       "      <th>TV Spend Ratio</th>\n",
       "      <th>Radio Spend Ratio</th>\n",
       "      <th>Newspaper Spend Ratio</th>\n",
       "    </tr>\n",
       "  </thead>\n",
       "  <tbody>\n",
       "    <tr>\n",
       "      <th>0</th>\n",
       "      <td>230.1</td>\n",
       "      <td>37.8</td>\n",
       "      <td>69.2</td>\n",
       "      <td>22.1</td>\n",
       "      <td>0.096045</td>\n",
       "      <td>0.096045</td>\n",
       "      <td>0.319364</td>\n",
       "      <td>337.1</td>\n",
       "      <td>0.682587</td>\n",
       "      <td>0.112133</td>\n",
       "      <td>0.205280</td>\n",
       "    </tr>\n",
       "    <tr>\n",
       "      <th>1</th>\n",
       "      <td>44.5</td>\n",
       "      <td>39.3</td>\n",
       "      <td>45.1</td>\n",
       "      <td>10.4</td>\n",
       "      <td>0.233708</td>\n",
       "      <td>0.233708</td>\n",
       "      <td>0.230599</td>\n",
       "      <td>128.9</td>\n",
       "      <td>0.345229</td>\n",
       "      <td>0.304888</td>\n",
       "      <td>0.349884</td>\n",
       "    </tr>\n",
       "    <tr>\n",
       "      <th>2</th>\n",
       "      <td>17.2</td>\n",
       "      <td>45.9</td>\n",
       "      <td>69.3</td>\n",
       "      <td>12.0</td>\n",
       "      <td>0.697674</td>\n",
       "      <td>0.697674</td>\n",
       "      <td>0.173160</td>\n",
       "      <td>132.4</td>\n",
       "      <td>0.129909</td>\n",
       "      <td>0.346677</td>\n",
       "      <td>0.523414</td>\n",
       "    </tr>\n",
       "    <tr>\n",
       "      <th>3</th>\n",
       "      <td>151.5</td>\n",
       "      <td>41.3</td>\n",
       "      <td>58.5</td>\n",
       "      <td>16.5</td>\n",
       "      <td>0.108911</td>\n",
       "      <td>0.108911</td>\n",
       "      <td>0.282051</td>\n",
       "      <td>251.3</td>\n",
       "      <td>0.602865</td>\n",
       "      <td>0.164345</td>\n",
       "      <td>0.232789</td>\n",
       "    </tr>\n",
       "    <tr>\n",
       "      <th>4</th>\n",
       "      <td>180.8</td>\n",
       "      <td>10.8</td>\n",
       "      <td>58.4</td>\n",
       "      <td>17.9</td>\n",
       "      <td>0.099004</td>\n",
       "      <td>0.099004</td>\n",
       "      <td>0.306507</td>\n",
       "      <td>250.0</td>\n",
       "      <td>0.723200</td>\n",
       "      <td>0.043200</td>\n",
       "      <td>0.233600</td>\n",
       "    </tr>\n",
       "  </tbody>\n",
       "</table>\n",
       "</div>"
      ],
      "text/plain": [
       "      TV  Radio  Newspaper  Sales  ROI_on_tv  ROI_on_radio  ROI_on_newspaper  \\\n",
       "0  230.1   37.8       69.2   22.1   0.096045      0.096045          0.319364   \n",
       "1   44.5   39.3       45.1   10.4   0.233708      0.233708          0.230599   \n",
       "2   17.2   45.9       69.3   12.0   0.697674      0.697674          0.173160   \n",
       "3  151.5   41.3       58.5   16.5   0.108911      0.108911          0.282051   \n",
       "4  180.8   10.8       58.4   17.9   0.099004      0.099004          0.306507   \n",
       "\n",
       "   Total Advertising  TV Spend Ratio  Radio Spend Ratio  Newspaper Spend Ratio  \n",
       "0              337.1        0.682587           0.112133               0.205280  \n",
       "1              128.9        0.345229           0.304888               0.349884  \n",
       "2              132.4        0.129909           0.346677               0.523414  \n",
       "3              251.3        0.602865           0.164345               0.232789  \n",
       "4              250.0        0.723200           0.043200               0.233600  "
      ]
     },
     "execution_count": 224,
     "metadata": {},
     "output_type": "execute_result"
    }
   ],
   "source": [
    "concatenated_df2.head()"
   ]
  },
  {
   "cell_type": "code",
   "execution_count": 225,
   "id": "9d04be5b",
   "metadata": {},
   "outputs": [
    {
     "data": {
      "text/html": [
       "<div>\n",
       "<style scoped>\n",
       "    .dataframe tbody tr th:only-of-type {\n",
       "        vertical-align: middle;\n",
       "    }\n",
       "\n",
       "    .dataframe tbody tr th {\n",
       "        vertical-align: top;\n",
       "    }\n",
       "\n",
       "    .dataframe thead th {\n",
       "        text-align: right;\n",
       "    }\n",
       "</style>\n",
       "<table border=\"1\" class=\"dataframe\">\n",
       "  <thead>\n",
       "    <tr style=\"text-align: right;\">\n",
       "      <th></th>\n",
       "      <th>TV</th>\n",
       "      <th>Radio</th>\n",
       "      <th>Newspaper</th>\n",
       "      <th>Sales</th>\n",
       "      <th>ROI_on_tv</th>\n",
       "      <th>ROI_on_radio</th>\n",
       "      <th>ROI_on_newspaper</th>\n",
       "      <th>Total Advertising</th>\n",
       "      <th>TV Spend Ratio</th>\n",
       "      <th>Radio Spend Ratio</th>\n",
       "      <th>Newspaper Spend Ratio</th>\n",
       "    </tr>\n",
       "  </thead>\n",
       "  <tbody>\n",
       "    <tr>\n",
       "      <th>0</th>\n",
       "      <td>230.1</td>\n",
       "      <td>37.8</td>\n",
       "      <td>69.2</td>\n",
       "      <td>22.1</td>\n",
       "      <td>0.096045</td>\n",
       "      <td>0.096045</td>\n",
       "      <td>0.319364</td>\n",
       "      <td>337.1</td>\n",
       "      <td>0.682587</td>\n",
       "      <td>0.112133</td>\n",
       "      <td>0.205280</td>\n",
       "    </tr>\n",
       "    <tr>\n",
       "      <th>1</th>\n",
       "      <td>44.5</td>\n",
       "      <td>39.3</td>\n",
       "      <td>45.1</td>\n",
       "      <td>10.4</td>\n",
       "      <td>0.233708</td>\n",
       "      <td>0.233708</td>\n",
       "      <td>0.230599</td>\n",
       "      <td>128.9</td>\n",
       "      <td>0.345229</td>\n",
       "      <td>0.304888</td>\n",
       "      <td>0.349884</td>\n",
       "    </tr>\n",
       "    <tr>\n",
       "      <th>2</th>\n",
       "      <td>17.2</td>\n",
       "      <td>45.9</td>\n",
       "      <td>69.3</td>\n",
       "      <td>12.0</td>\n",
       "      <td>0.697674</td>\n",
       "      <td>0.697674</td>\n",
       "      <td>0.173160</td>\n",
       "      <td>132.4</td>\n",
       "      <td>0.129909</td>\n",
       "      <td>0.346677</td>\n",
       "      <td>0.523414</td>\n",
       "    </tr>\n",
       "    <tr>\n",
       "      <th>3</th>\n",
       "      <td>151.5</td>\n",
       "      <td>41.3</td>\n",
       "      <td>58.5</td>\n",
       "      <td>16.5</td>\n",
       "      <td>0.108911</td>\n",
       "      <td>0.108911</td>\n",
       "      <td>0.282051</td>\n",
       "      <td>251.3</td>\n",
       "      <td>0.602865</td>\n",
       "      <td>0.164345</td>\n",
       "      <td>0.232789</td>\n",
       "    </tr>\n",
       "    <tr>\n",
       "      <th>4</th>\n",
       "      <td>180.8</td>\n",
       "      <td>10.8</td>\n",
       "      <td>58.4</td>\n",
       "      <td>17.9</td>\n",
       "      <td>0.099004</td>\n",
       "      <td>0.099004</td>\n",
       "      <td>0.306507</td>\n",
       "      <td>250.0</td>\n",
       "      <td>0.723200</td>\n",
       "      <td>0.043200</td>\n",
       "      <td>0.233600</td>\n",
       "    </tr>\n",
       "  </tbody>\n",
       "</table>\n",
       "</div>"
      ],
      "text/plain": [
       "      TV  Radio  Newspaper  Sales  ROI_on_tv  ROI_on_radio  ROI_on_newspaper  \\\n",
       "0  230.1   37.8       69.2   22.1   0.096045      0.096045          0.319364   \n",
       "1   44.5   39.3       45.1   10.4   0.233708      0.233708          0.230599   \n",
       "2   17.2   45.9       69.3   12.0   0.697674      0.697674          0.173160   \n",
       "3  151.5   41.3       58.5   16.5   0.108911      0.108911          0.282051   \n",
       "4  180.8   10.8       58.4   17.9   0.099004      0.099004          0.306507   \n",
       "\n",
       "   Total Advertising  TV Spend Ratio  Radio Spend Ratio  Newspaper Spend Ratio  \n",
       "0              337.1        0.682587           0.112133               0.205280  \n",
       "1              128.9        0.345229           0.304888               0.349884  \n",
       "2              132.4        0.129909           0.346677               0.523414  \n",
       "3              251.3        0.602865           0.164345               0.232789  \n",
       "4              250.0        0.723200           0.043200               0.233600  "
      ]
     },
     "execution_count": 225,
     "metadata": {},
     "output_type": "execute_result"
    }
   ],
   "source": [
    "concatenated_df2.head()"
   ]
  },
  {
   "cell_type": "code",
   "execution_count": 226,
   "id": "96cf09a7",
   "metadata": {},
   "outputs": [
    {
     "data": {
      "text/plain": [
       "<Axes: xlabel='TV'>"
      ]
     },
     "execution_count": 226,
     "metadata": {},
     "output_type": "execute_result"
    },
    {
     "data": {
      "image/png": "[encoded data removed]",
      "text/plain": [
       "<Figure size 640x480 with 1 Axes>"
      ]
     },
     "metadata": {},
     "output_type": "display_data"
    }
   ],
   "source": [
    "# treating outliers\n",
    "sns.boxplot(x=concatenated_df2[\"TV\"])"
   ]
  },
  {
   "cell_type": "code",
   "execution_count": 227,
   "id": "9ceded5e",
   "metadata": {},
   "outputs": [
    {
     "data": {
      "text/plain": [
       "<Axes: xlabel='Radio'>"
      ]
     },
     "execution_count": 227,
     "metadata": {},
     "output_type": "execute_result"
    },
    {
     "data": {
      "image/png": "[encoded data removed]",
      "text/plain": [
       "<Figure size 640x480 with 1 Axes>"
      ]
     },
     "metadata": {},
     "output_type": "display_data"
    }
   ],
   "source": [
    "sns.boxplot(x=concatenated_df2['Radio'])"
   ]
  },
  {
   "cell_type": "code",
   "execution_count": 228,
   "id": "8f13676c",
   "metadata": {},
   "outputs": [
    {
     "data": {
      "text/plain": [
       "<Axes: ylabel='Newspaper'>"
      ]
     },
     "execution_count": 228,
     "metadata": {},
     "output_type": "execute_result"
    },
    {
     "data": {
      "image/png": "[encoded data removed]",
      "text/plain": [
       "<Figure size 640x480 with 1 Axes>"
      ]
     },
     "metadata": {},
     "output_type": "display_data"
    }
   ],
   "source": [
    "sns.boxplot(concatenated_df2['Newspaper'])"
   ]
  },
  {
   "cell_type": "code",
   "execution_count": 229,
   "id": "d45bdbb4",
   "metadata": {},
   "outputs": [
    {
     "name": "stderr",
     "output_type": "stream",
     "text": [
      "C:\\Users\\samri\\AppData\\Local\\Temp\\ipykernel_33852\\2588929613.py:7: UserWarning: \n",
      "\n",
      "`distplot` is a deprecated function and will be removed in seaborn v0.14.0.\n",
      "\n",
      "Please adapt your code to use either `displot` (a figure-level function with\n",
      "similar flexibility) or `histplot` (an axes-level function for histograms).\n",
      "\n",
      "For a guide to updating your code to use the new functions, please see\n",
      "https://gist.github.com/mwaskom/de44147ed2974457ad6372750bbe5751\n",
      "\n",
      "  sns.distplot(concatenated_df2[\"Newspaper\"])\n"
     ]
    },
    {
     "data": {
      "text/plain": [
       "Text(0.5, 1.0, 'newspaper distribution')"
      ]
     },
     "execution_count": 229,
     "metadata": {},
     "output_type": "execute_result"
    },
    {
     "data": {
      "image/png": "[encoded data removed]",
      "text/plain": [
       "<Figure size 1200x600 with 1 Axes>"
      ]
     },
     "metadata": {},
     "output_type": "display_data"
    }
   ],
   "source": [
    "import scipy.stats as stats\n",
    "\n",
    "plt.figure(figsize=(12,6))\n",
    "\n",
    "\n",
    "plt.subplot(1,2,1)\n",
    "sns.distplot(concatenated_df2[\"Newspaper\"])\n",
    "plt.title(\"newspaper distribution\")"
   ]
  },
  {
   "cell_type": "code",
   "execution_count": 230,
   "id": "41fc777c",
   "metadata": {},
   "outputs": [
    {
     "name": "stderr",
     "output_type": "stream",
     "text": [
      "C:\\Users\\samri\\anaconda3\\Lib\\site-packages\\sklearn\\preprocessing\\_data.py:2667: UserWarning: n_quantiles (1000) is greater than the total number of samples (200). n_quantiles is set to n_samples.\n",
      "  warnings.warn(\n"
     ]
    }
   ],
   "source": [
    "from sklearn.preprocessing import QuantileTransformer\n",
    "qt_normal = QuantileTransformer(output_distribution='normal')\n",
    "concatenated_df2['Newspaper'] = qt_normal.fit_transform(concatenated_df2[['Newspaper']])"
   ]
  },
  {
   "cell_type": "code",
   "execution_count": 231,
   "id": "7d69a4a7",
   "metadata": {},
   "outputs": [
    {
     "name": "stdout",
     "output_type": "stream",
     "text": [
      "upper_limit 2.70787949499306\n",
      "lower_limit -2.7039367881649543\n"
     ]
    }
   ],
   "source": [
    "percentile_25 = concatenated_df2['Newspaper'].quantile(0.25)\n",
    "percentile_75 = concatenated_df2['Newspaper'].quantile(0.75)\n",
    "\n",
    "# inter-quartile range\n",
    "iqr = percentile_75-percentile_25\n",
    "iqr\n",
    "\n",
    "\n",
    "# finding the outlier\n",
    "percentile25 = concatenated_df2[\"Newspaper\"].quantile(0.25)\n",
    "percentile75 = concatenated_df2[\"Newspaper\"].quantile(0.75)\n",
    "\n",
    "iqr = percentile75-percentile25\n",
    "iqr\n",
    "# checking upper and lower limit in distance variable\n",
    "\n",
    "upper_limit = percentile75 + 1.5*iqr\n",
    "lower_limit = percentile25 - 1.5*iqr\n",
    "\n",
    "print(\"upper_limit\",upper_limit)\n",
    "print(\"lower_limit\",lower_limit)\n",
    "\n",
    "\n",
    "# capping\n",
    "new_df_cap = concatenated_df2.copy()\n",
    "\n",
    "new_df_cap[\"Newspaper\"] = np.where(\n",
    "    new_df_cap[\"Newspaper\"]>upper_limit,\n",
    "    upper_limit,\n",
    "    np.where(\n",
    "       new_df_cap[\"Newspaper\"] < lower_limit,\n",
    "       lower_limit,\n",
    "       new_df_cap[\"Newspaper\"]\n",
    "    )\n",
    ")\n",
    "\n",
    "concatenated_df2[\"Newspaper\"] = new_df_cap[\"Newspaper\"]"
   ]
  },
  {
   "cell_type": "code",
   "execution_count": 232,
   "id": "ad1da2d7",
   "metadata": {},
   "outputs": [
    {
     "data": {
      "text/plain": [
       "<Axes: xlabel='Newspaper'>"
      ]
     },
     "execution_count": 232,
     "metadata": {},
     "output_type": "execute_result"
    },
    {
     "data": {
      "image/png": "[encoded data removed]",
      "text/plain": [
       "<Figure size 640x480 with 1 Axes>"
      ]
     },
     "metadata": {},
     "output_type": "display_data"
    }
   ],
   "source": [
    "sns.boxplot(x=concatenated_df2['Newspaper'])"
   ]
  },
  {
   "cell_type": "code",
   "execution_count": 233,
   "id": "bf9e8048",
   "metadata": {},
   "outputs": [
    {
     "data": {
      "text/plain": [
       "<Axes: xlabel='ROI_on_tv'>"
      ]
     },
     "execution_count": 233,
     "metadata": {},
     "output_type": "execute_result"
    },
    {
     "data": {
      "image/png": "[encoded data removed]",
      "text/plain": [
       "<Figure size 640x480 with 1 Axes>"
      ]
     },
     "metadata": {},
     "output_type": "display_data"
    }
   ],
   "source": [
    "sns.boxplot(x=concatenated_df2[\"ROI_on_tv\"])"
   ]
  },
  {
   "cell_type": "code",
   "execution_count": 234,
   "id": "490fb8ac",
   "metadata": {},
   "outputs": [
    {
     "name": "stderr",
     "output_type": "stream",
     "text": [
      "C:\\Users\\samri\\AppData\\Local\\Temp\\ipykernel_33852\\352693174.py:10: UserWarning: \n",
      "\n",
      "`distplot` is a deprecated function and will be removed in seaborn v0.14.0.\n",
      "\n",
      "Please adapt your code to use either `displot` (a figure-level function with\n",
      "similar flexibility) or `histplot` (an axes-level function for histograms).\n",
      "\n",
      "For a guide to updating your code to use the new functions, please see\n",
      "https://gist.github.com/mwaskom/de44147ed2974457ad6372750bbe5751\n",
      "\n",
      "  sns.distplot(concatenated_df2['ROI_on_tv'])\n"
     ]
    },
    {
     "data": {
      "text/plain": [
       "Text(0.5, 1.0, 'tv distribution')"
      ]
     },
     "execution_count": 234,
     "metadata": {},
     "output_type": "execute_result"
    },
    {
     "data": {
      "image/png": "[encoded data removed]",
      "text/plain": [
       "<Figure size 1200x600 with 1 Axes>"
      ]
     },
     "metadata": {},
     "output_type": "display_data"
    }
   ],
   "source": [
    "import seaborn as sns\n",
    "import matplotlib.pyplot as plt\n",
    "import scipy.stats as stats  # Import scipy.stats for probplot\n",
    "\n",
    "# Assuming you have your data loaded into a DataFrame named 'df1'\n",
    "\n",
    "plt.figure(figsize=(12, 6))\n",
    "\n",
    "plt.subplot(1, 2, 1)\n",
    "sns.distplot(concatenated_df2['ROI_on_tv'])\n",
    "plt.title(\"tv distribution\")"
   ]
  },
  {
   "cell_type": "code",
   "execution_count": 235,
   "id": "25eedd45",
   "metadata": {},
   "outputs": [
    {
     "name": "stderr",
     "output_type": "stream",
     "text": [
      "C:\\Users\\samri\\anaconda3\\Lib\\site-packages\\sklearn\\preprocessing\\_data.py:2667: UserWarning: n_quantiles (1000) is greater than the total number of samples (200). n_quantiles is set to n_samples.\n",
      "  warnings.warn(\n"
     ]
    }
   ],
   "source": [
    "from sklearn.preprocessing import QuantileTransformer\n",
    "qt_normal = QuantileTransformer(output_distribution='normal')\n",
    "concatenated_df2['ROI_on_tv'] = qt_normal.fit_transform(concatenated_df2[['ROI_on_tv']])"
   ]
  },
  {
   "cell_type": "code",
   "execution_count": 236,
   "id": "b9468580",
   "metadata": {},
   "outputs": [
    {
     "name": "stdout",
     "output_type": "stream",
     "text": [
      "upper_limit 2.6980227279227984\n",
      "lower_limit -2.6980227279227984\n"
     ]
    }
   ],
   "source": [
    "# now will calculate outlier\n",
    "percentile_25 = concatenated_df2['ROI_on_tv'].quantile(0.25)\n",
    "percentile_75 = concatenated_df2['ROI_on_tv'].quantile(0.75)\n",
    "\n",
    "# inter-quartile range\n",
    "iqr = percentile_75-percentile_25\n",
    "iqr\n",
    "\n",
    "# finding the outlier\n",
    "percentile25 = concatenated_df2[\"ROI_on_tv\"].quantile(0.25)\n",
    "percentile75 = concatenated_df2[\"ROI_on_tv\"].quantile(0.75)\n",
    "\n",
    "iqr = percentile75-percentile25\n",
    "iqr\n",
    "# checking upper and lower limit in distance variable\n",
    "\n",
    "upper_limit = percentile75 + 1.5*iqr\n",
    "lower_limit = percentile25 - 1.5*iqr\n",
    "\n",
    "print(\"upper_limit\",upper_limit)\n",
    "print(\"lower_limit\",lower_limit)\n",
    "\n",
    "\n",
    "# capping\n",
    "new_df_cap = concatenated_df2.copy()\n",
    "\n",
    "new_df_cap[\"ROI_on_tv\"] = np.where(\n",
    "    new_df_cap[\"ROI_on_tv\"]>upper_limit,\n",
    "    upper_limit,\n",
    "    np.where(\n",
    "       new_df_cap[\"ROI_on_tv\"] < lower_limit,\n",
    "       lower_limit,\n",
    "       new_df_cap[\"ROI_on_tv\"]\n",
    "    )\n",
    ")\n",
    "\n",
    "concatenated_df2[\"ROI_on_tv\"] = new_df_cap[\"ROI_on_tv\"]"
   ]
  },
  {
   "cell_type": "code",
   "execution_count": 237,
   "id": "11f21fff",
   "metadata": {},
   "outputs": [
    {
     "data": {
      "text/plain": [
       "<Axes: xlabel='ROI_on_radio'>"
      ]
     },
     "execution_count": 237,
     "metadata": {},
     "output_type": "execute_result"
    },
    {
     "data": {
      "image/png": "[encoded data removed]",
      "text/plain": [
       "<Figure size 640x480 with 1 Axes>"
      ]
     },
     "metadata": {},
     "output_type": "display_data"
    }
   ],
   "source": [
    "sns.boxplot(x=concatenated_df2[\"ROI_on_radio\"])"
   ]
  },
  {
   "cell_type": "code",
   "execution_count": 238,
   "id": "6ba2da4f",
   "metadata": {},
   "outputs": [
    {
     "name": "stderr",
     "output_type": "stream",
     "text": [
      "C:\\Users\\samri\\AppData\\Local\\Temp\\ipykernel_33852\\1051193701.py:10: UserWarning: \n",
      "\n",
      "`distplot` is a deprecated function and will be removed in seaborn v0.14.0.\n",
      "\n",
      "Please adapt your code to use either `displot` (a figure-level function with\n",
      "similar flexibility) or `histplot` (an axes-level function for histograms).\n",
      "\n",
      "For a guide to updating your code to use the new functions, please see\n",
      "https://gist.github.com/mwaskom/de44147ed2974457ad6372750bbe5751\n",
      "\n",
      "  sns.distplot(concatenated_df2['ROI_on_radio'])\n"
     ]
    },
    {
     "data": {
      "text/plain": [
       "Text(0.5, 1.0, 'radio distribution')"
      ]
     },
     "execution_count": 238,
     "metadata": {},
     "output_type": "execute_result"
    },
    {
     "data": {
      "image/png": "[encoded data removed]",
      "text/plain": [
       "<Figure size 1200x600 with 1 Axes>"
      ]
     },
     "metadata": {},
     "output_type": "display_data"
    }
   ],
   "source": [
    "import seaborn as sns\n",
    "import matplotlib.pyplot as plt\n",
    "import scipy.stats as stats  # Import scipy.stats for probplot\n",
    "\n",
    "# Assuming you have your data loaded into a DataFrame named 'df1'\n",
    "\n",
    "plt.figure(figsize=(12, 6))\n",
    "\n",
    "plt.subplot(1, 2, 1)\n",
    "sns.distplot(concatenated_df2['ROI_on_radio'])\n",
    "plt.title(\"radio distribution\")"
   ]
  },
  {
   "cell_type": "code",
   "execution_count": 239,
   "id": "de66ac50",
   "metadata": {},
   "outputs": [
    {
     "name": "stderr",
     "output_type": "stream",
     "text": [
      "C:\\Users\\samri\\anaconda3\\Lib\\site-packages\\sklearn\\preprocessing\\_data.py:2667: UserWarning: n_quantiles (1000) is greater than the total number of samples (200). n_quantiles is set to n_samples.\n",
      "  warnings.warn(\n"
     ]
    }
   ],
   "source": [
    "from sklearn.preprocessing import QuantileTransformer\n",
    "qt_normal = QuantileTransformer(output_distribution='normal')\n",
    "concatenated_df2['ROI_on_radio'] = qt_normal.fit_transform(concatenated_df2[['ROI_on_radio']])"
   ]
  },
  {
   "cell_type": "code",
   "execution_count": 240,
   "id": "73a6d2e8",
   "metadata": {},
   "outputs": [
    {
     "name": "stdout",
     "output_type": "stream",
     "text": [
      "upper_limit 2.6980227279227984\n",
      "lower_limit -2.6980227279227984\n"
     ]
    }
   ],
   "source": [
    "# now will calculate outlier\n",
    "percentile_25 = concatenated_df2['ROI_on_radio'].quantile(0.25)\n",
    "percentile_75 = concatenated_df2['ROI_on_radio'].quantile(0.75)\n",
    "\n",
    "# inter-quartile range\n",
    "iqr = percentile_75-percentile_25\n",
    "iqr\n",
    "\n",
    "# finding the outlier\n",
    "percentile25 = concatenated_df2[\"ROI_on_radio\"].quantile(0.25)\n",
    "percentile75 = concatenated_df2[\"ROI_on_radio\"].quantile(0.75)\n",
    "\n",
    "iqr = percentile75-percentile25\n",
    "iqr\n",
    "# checking upper and lower limit in distance variable\n",
    "\n",
    "upper_limit = percentile75 + 1.5*iqr\n",
    "lower_limit = percentile25 - 1.5*iqr\n",
    "\n",
    "print(\"upper_limit\",upper_limit)\n",
    "print(\"lower_limit\",lower_limit)\n",
    "\n",
    "\n",
    "# capping\n",
    "new_df_cap = concatenated_df2.copy()\n",
    "\n",
    "new_df_cap[\"ROI_on_radio\"] = np.where(\n",
    "    new_df_cap[\"ROI_on_radio\"]>upper_limit,\n",
    "    upper_limit,\n",
    "    np.where(\n",
    "       new_df_cap[\"ROI_on_radio\"] < lower_limit,\n",
    "       lower_limit,\n",
    "       new_df_cap[\"ROI_on_radio\"]\n",
    "    )\n",
    ")\n",
    "\n",
    "concatenated_df2[\"ROI_on_radio\"] = new_df_cap[\"ROI_on_radio\"]"
   ]
  },
  {
   "cell_type": "code",
   "execution_count": 241,
   "id": "4e7daf68",
   "metadata": {},
   "outputs": [
    {
     "data": {
      "text/plain": [
       "<Axes: xlabel='ROI_on_tv'>"
      ]
     },
     "execution_count": 241,
     "metadata": {},
     "output_type": "execute_result"
    },
    {
     "data": {
      "image/png": "[encoded data removed]",
      "text/plain": [
       "<Figure size 640x480 with 1 Axes>"
      ]
     },
     "metadata": {},
     "output_type": "display_data"
    }
   ],
   "source": [
    "sns.boxplot(x=concatenated_df2[\"ROI_on_tv\"])"
   ]
  },
  {
   "cell_type": "code",
   "execution_count": 242,
   "id": "48a1c0d5",
   "metadata": {},
   "outputs": [
    {
     "data": {
      "text/plain": [
       "<Axes: ylabel='ROI_on_newspaper'>"
      ]
     },
     "execution_count": 242,
     "metadata": {},
     "output_type": "execute_result"
    },
    {
     "data": {
      "image/png": "[encoded data removed]",
      "text/plain": [
       "<Figure size 640x480 with 1 Axes>"
      ]
     },
     "metadata": {},
     "output_type": "display_data"
    }
   ],
   "source": [
    "sns.boxplot(concatenated_df2[\"ROI_on_newspaper\"])"
   ]
  },
  {
   "cell_type": "code",
   "execution_count": 243,
   "id": "21fe6782",
   "metadata": {},
   "outputs": [
    {
     "name": "stderr",
     "output_type": "stream",
     "text": [
      "C:\\Users\\samri\\anaconda3\\Lib\\site-packages\\sklearn\\preprocessing\\_data.py:2667: UserWarning: n_quantiles (1000) is greater than the total number of samples (200). n_quantiles is set to n_samples.\n",
      "  warnings.warn(\n"
     ]
    }
   ],
   "source": [
    "from sklearn.preprocessing import QuantileTransformer\n",
    "qt_normal = QuantileTransformer(output_distribution='normal')\n",
    "concatenated_df2['ROI_on_newspaper'] = qt_normal.fit_transform(concatenated_df2[['ROI_on_newspaper']])"
   ]
  },
  {
   "cell_type": "code",
   "execution_count": 244,
   "id": "acba1c6d",
   "metadata": {},
   "outputs": [
    {
     "name": "stdout",
     "output_type": "stream",
     "text": [
      "upper_limit 2.6980227279227975\n",
      "lower_limit -2.6980227279227975\n"
     ]
    }
   ],
   "source": [
    "# now will calculate outlier\n",
    "percentile_25 = concatenated_df2['ROI_on_newspaper'].quantile(0.25)\n",
    "percentile_75 = concatenated_df2['ROI_on_newspaper'].quantile(0.75)\n",
    "\n",
    "# inter-quartile range\n",
    "iqr = percentile_75-percentile_25\n",
    "iqr\n",
    "\n",
    "\n",
    "# finding the outlier\n",
    "percentile25 = concatenated_df2[\"ROI_on_newspaper\"].quantile(0.25)\n",
    "percentile75 = concatenated_df2[\"ROI_on_newspaper\"].quantile(0.75)\n",
    "\n",
    "iqr = percentile75-percentile25\n",
    "iqr\n",
    "# checking upper and lower limit in distance variable\n",
    "\n",
    "upper_limit = percentile75 + 1.5*iqr\n",
    "lower_limit = percentile25 - 1.5*iqr\n",
    "\n",
    "print(\"upper_limit\",upper_limit)\n",
    "print(\"lower_limit\",lower_limit)\n",
    "\n",
    "\n",
    "# capping\n",
    "new_df_cap = concatenated_df2.copy()\n",
    "\n",
    "new_df_cap[\"ROI_on_newspaper\"] = np.where(\n",
    "    new_df_cap[\"ROI_on_newspaper\"]>upper_limit,\n",
    "    upper_limit,\n",
    "    np.where(\n",
    "       new_df_cap[\"ROI_on_newspaper\"] < lower_limit,\n",
    "       lower_limit,\n",
    "       new_df_cap[\"ROI_on_newspaper\"]\n",
    "    )\n",
    ")\n",
    "\n",
    "concatenated_df2[\"ROI_on_newspaper\"] = new_df_cap[\"ROI_on_newspaper\"]\n"
   ]
  },
  {
   "cell_type": "code",
   "execution_count": 245,
   "id": "175f3eb8",
   "metadata": {},
   "outputs": [
    {
     "data": {
      "text/plain": [
       "<Axes: xlabel='Total Advertising'>"
      ]
     },
     "execution_count": 245,
     "metadata": {},
     "output_type": "execute_result"
    },
    {
     "data": {
      "image/png": "[encoded data removed]",
      "text/plain": [
       "<Figure size 640x480 with 1 Axes>"
      ]
     },
     "metadata": {},
     "output_type": "display_data"
    }
   ],
   "source": [
    "sns.boxplot(x=concatenated_df2[\"Total Advertising\"])"
   ]
  },
  {
   "cell_type": "code",
   "execution_count": 246,
   "id": "70f3fa60",
   "metadata": {},
   "outputs": [
    {
     "data": {
      "text/plain": [
       "<Axes: xlabel='TV Spend Ratio'>"
      ]
     },
     "execution_count": 246,
     "metadata": {},
     "output_type": "execute_result"
    },
    {
     "data": {
      "image/png": "[encoded data removed]",
      "text/plain": [
       "<Figure size 640x480 with 1 Axes>"
      ]
     },
     "metadata": {},
     "output_type": "display_data"
    }
   ],
   "source": [
    "sns.boxplot(x=concatenated_df2[\"TV Spend Ratio\"])"
   ]
  },
  {
   "cell_type": "code",
   "execution_count": 247,
   "id": "7a928c43",
   "metadata": {},
   "outputs": [
    {
     "name": "stderr",
     "output_type": "stream",
     "text": [
      "C:\\Users\\samri\\anaconda3\\Lib\\site-packages\\sklearn\\preprocessing\\_data.py:2667: UserWarning: n_quantiles (1000) is greater than the total number of samples (200). n_quantiles is set to n_samples.\n",
      "  warnings.warn(\n"
     ]
    }
   ],
   "source": [
    "from sklearn.preprocessing import QuantileTransformer\n",
    "qt_normal = QuantileTransformer(output_distribution='normal')\n",
    "concatenated_df2['TV Spend Ratio'] = qt_normal.fit_transform(concatenated_df2[['TV Spend Ratio']])"
   ]
  },
  {
   "cell_type": "code",
   "execution_count": 248,
   "id": "658dadca",
   "metadata": {},
   "outputs": [
    {
     "name": "stdout",
     "output_type": "stream",
     "text": [
      "upper_limit 2.6980227279227984\n",
      "lower_limit -2.698022727922798\n"
     ]
    }
   ],
   "source": [
    "# now will calculate outlier\n",
    "percentile_25 = concatenated_df2['TV Spend Ratio'].quantile(0.25)\n",
    "percentile_75 = concatenated_df2['TV Spend Ratio'].quantile(0.75)\n",
    "\n",
    "# inter-quartile range\n",
    "iqr = percentile_75-percentile_25\n",
    "iqr\n",
    "\n",
    "# finding the outlier\n",
    "percentile25 = concatenated_df2[\"TV Spend Ratio\"].quantile(0.25)\n",
    "percentile75 = concatenated_df2[\"TV Spend Ratio\"].quantile(0.75)\n",
    "\n",
    "iqr = percentile75-percentile25\n",
    "iqr\n",
    "# checking upper and lower limit in distance variable\n",
    "\n",
    "upper_limit = percentile75 + 1.5*iqr\n",
    "lower_limit = percentile25 - 1.5*iqr\n",
    "\n",
    "print(\"upper_limit\",upper_limit)\n",
    "print(\"lower_limit\",lower_limit)\n",
    "\n",
    "\n",
    "# capping\n",
    "new_df_cap = concatenated_df2.copy()\n",
    "\n",
    "new_df_cap[\"TV Spend Ratio\"] = np.where(\n",
    "    new_df_cap[\"TV Spend Ratio\"]>upper_limit,\n",
    "    upper_limit,\n",
    "    np.where(\n",
    "       new_df_cap[\"TV Spend Ratio\"] < lower_limit,\n",
    "       lower_limit,\n",
    "       new_df_cap[\"TV Spend Ratio\"]\n",
    "    )\n",
    ")\n",
    "\n",
    "concatenated_df2[\"TV Spend Ratio\"] = new_df_cap[\"TV Spend Ratio\"]"
   ]
  },
  {
   "cell_type": "code",
   "execution_count": 249,
   "id": "8a1a4f18",
   "metadata": {},
   "outputs": [
    {
     "data": {
      "text/plain": [
       "<Axes: ylabel='Radio Spend Ratio'>"
      ]
     },
     "execution_count": 249,
     "metadata": {},
     "output_type": "execute_result"
    },
    {
     "data": {
      "image/png": "[encoded data removed]",
      "text/plain": [
       "<Figure size 640x480 with 1 Axes>"
      ]
     },
     "metadata": {},
     "output_type": "display_data"
    }
   ],
   "source": [
    "sns.boxplot(concatenated_df2[\"Radio Spend Ratio\"])"
   ]
  },
  {
   "cell_type": "code",
   "execution_count": 250,
   "id": "56fe8801",
   "metadata": {},
   "outputs": [
    {
     "name": "stderr",
     "output_type": "stream",
     "text": [
      "C:\\Users\\samri\\anaconda3\\Lib\\site-packages\\sklearn\\preprocessing\\_data.py:2667: UserWarning: n_quantiles (1000) is greater than the total number of samples (200). n_quantiles is set to n_samples.\n",
      "  warnings.warn(\n"
     ]
    }
   ],
   "source": [
    "from sklearn.preprocessing import QuantileTransformer\n",
    "qt_normal = QuantileTransformer(output_distribution='normal')\n",
    "concatenated_df2['Radio Spend Ratio'] = qt_normal.fit_transform(concatenated_df2[['Radio Spend Ratio']])"
   ]
  },
  {
   "cell_type": "code",
   "execution_count": 251,
   "id": "b591a916",
   "metadata": {},
   "outputs": [
    {
     "name": "stdout",
     "output_type": "stream",
     "text": [
      "upper_limit 2.698022727922793\n",
      "lower_limit -2.698022727922795\n"
     ]
    }
   ],
   "source": [
    "# now will calculate outlier\n",
    "percentile_25 = concatenated_df2['Radio Spend Ratio'].quantile(0.25)\n",
    "percentile_75 = concatenated_df2['Radio Spend Ratio'].quantile(0.75)\n",
    "\n",
    "# inter-quartile range\n",
    "iqr = percentile_75-percentile_25\n",
    "iqr\n",
    "\n",
    "# finding the outlier\n",
    "percentile25 = concatenated_df2[\"Radio Spend Ratio\"].quantile(0.25)\n",
    "percentile75 = concatenated_df2[\"Radio Spend Ratio\"].quantile(0.75)\n",
    "\n",
    "iqr = percentile75-percentile25\n",
    "iqr\n",
    "# checking upper and lower limit in distance variable\n",
    "\n",
    "upper_limit = percentile75 + 1.5*iqr\n",
    "lower_limit = percentile25 - 1.5*iqr\n",
    "\n",
    "print(\"upper_limit\",upper_limit)\n",
    "print(\"lower_limit\",lower_limit)\n",
    "\n",
    "\n",
    "# capping\n",
    "new_df_cap = concatenated_df2.copy()\n",
    "\n",
    "new_df_cap[\"Radio Spend Ratio\"] = np.where(\n",
    "    new_df_cap[\"Radio Spend Ratio\"]>upper_limit,\n",
    "    upper_limit,\n",
    "    np.where(\n",
    "       new_df_cap[\"Radio Spend Ratio\"] < lower_limit,\n",
    "       lower_limit,\n",
    "       new_df_cap[\"Radio Spend Ratio\"]\n",
    "    )\n",
    ")\n",
    "\n",
    "concatenated_df2[\"Radio Spend Ratio\"] = new_df_cap[\"Radio Spend Ratio\"]"
   ]
  },
  {
   "cell_type": "code",
   "execution_count": 252,
   "id": "037e40c3",
   "metadata": {},
   "outputs": [
    {
     "data": {
      "text/plain": [
       "<Axes: xlabel='Newspaper Spend Ratio'>"
      ]
     },
     "execution_count": 252,
     "metadata": {},
     "output_type": "execute_result"
    },
    {
     "data": {
      "image/png": "[encoded data removed]",
      "text/plain": [
       "<Figure size 640x480 with 1 Axes>"
      ]
     },
     "metadata": {},
     "output_type": "display_data"
    }
   ],
   "source": [
    "sns.boxplot(x=concatenated_df2[\"Newspaper Spend Ratio\"])"
   ]
  },
  {
   "cell_type": "code",
   "execution_count": 253,
   "id": "e5df15ae",
   "metadata": {},
   "outputs": [
    {
     "name": "stderr",
     "output_type": "stream",
     "text": [
      "C:\\Users\\samri\\anaconda3\\Lib\\site-packages\\sklearn\\preprocessing\\_data.py:2667: UserWarning: n_quantiles (1000) is greater than the total number of samples (200). n_quantiles is set to n_samples.\n",
      "  warnings.warn(\n"
     ]
    }
   ],
   "source": [
    "from sklearn.preprocessing import QuantileTransformer\n",
    "qt_normal = QuantileTransformer(output_distribution='normal')\n",
    "concatenated_df2['Newspaper Spend Ratio'] = qt_normal.fit_transform(concatenated_df2[['Newspaper Spend Ratio']])"
   ]
  },
  {
   "cell_type": "code",
   "execution_count": 254,
   "id": "8befc169",
   "metadata": {},
   "outputs": [
    {
     "name": "stdout",
     "output_type": "stream",
     "text": [
      "upper_limit 2.6980227279227984\n",
      "lower_limit -2.698022727922798\n"
     ]
    }
   ],
   "source": [
    "# now will calculate outlier\n",
    "percentile_25 = concatenated_df2['Newspaper Spend Ratio'].quantile(0.25)\n",
    "percentile_75 = concatenated_df2['Newspaper Spend Ratio'].quantile(0.75)\n",
    "\n",
    "# inter-quartile range\n",
    "iqr = percentile_75-percentile_25\n",
    "iqr\n",
    "\n",
    "# finding the outlier\n",
    "percentile25 = concatenated_df2[\"Newspaper Spend Ratio\"].quantile(0.25)\n",
    "percentile75 = concatenated_df2[\"Newspaper Spend Ratio\"].quantile(0.75)\n",
    "\n",
    "iqr = percentile75-percentile25\n",
    "iqr\n",
    "# checking upper and lower limit in distance variable\n",
    "\n",
    "upper_limit = percentile75 + 1.5*iqr\n",
    "lower_limit = percentile25 - 1.5*iqr\n",
    "\n",
    "print(\"upper_limit\",upper_limit)\n",
    "print(\"lower_limit\",lower_limit)\n",
    "\n",
    "\n",
    "# capping\n",
    "new_df_cap = concatenated_df2.copy()\n",
    "\n",
    "new_df_cap[\"Newspaper Spend Ratio\"] = np.where(\n",
    "    new_df_cap[\"Newspaper Spend Ratio\"]>upper_limit,\n",
    "    upper_limit,\n",
    "    np.where(\n",
    "       new_df_cap[\"Newspaper Spend Ratio\"] < lower_limit,\n",
    "       lower_limit,\n",
    "       new_df_cap[\"Newspaper Spend Ratio\"]\n",
    "    )\n",
    ")\n",
    "\n",
    "concatenated_df2[\"Newspaper Spend Ratio\"] = new_df_cap[\"Newspaper Spend Ratio\"]"
   ]
  },
  {
   "cell_type": "code",
   "execution_count": 324,
   "id": "37c93774",
   "metadata": {},
   "outputs": [],
   "source": [
    "from sklearn.model_selection import train_test_split\n",
    "X = concatenated_df2.drop(\"Sales\",axis=1)\n",
    "y = concatenated_df2[\"Sales\"]\n",
    "X_train, X_test, y_train, y_test = train_test_split(X,y, test_size=0.2, random_state=1)\n",
    "train_data = pd.concat([X_train,y_train], axis = 1)\n",
    "test_data = pd.concat([X_test,y_test], axis = 1)"
   ]
  },
  {
   "cell_type": "code",
   "execution_count": 325,
   "id": "04e0c1ca",
   "metadata": {},
   "outputs": [],
   "source": [
    "# model 1\n",
    "import statsmodels.api as sm\n",
    "import statsmodels.formula.api as smf"
   ]
  },
  {
   "cell_type": "code",
   "execution_count": 326,
   "id": "7d9d0469",
   "metadata": {},
   "outputs": [
    {
     "name": "stdout",
     "output_type": "stream",
     "text": [
      "                            OLS Regression Results                            \n",
      "==============================================================================\n",
      "Dep. Variable:                  Sales   R-squared:                       0.978\n",
      "Model:                            OLS   Adj. R-squared:                  0.977\n",
      "Method:                 Least Squares   F-statistic:                     758.3\n",
      "Date:                Tue, 28 May 2024   Prob (F-statistic):          2.82e-120\n",
      "Time:                        19:14:51   Log-Likelihood:                -190.69\n",
      "No. Observations:                 160   AIC:                             401.4\n",
      "Df Residuals:                     150   BIC:                             432.1\n",
      "Df Model:                           9                                         \n",
      "Covariance Type:            nonrobust                                         \n",
      "=========================================================================================\n",
      "                            coef    std err          t      P>|t|      [0.025      0.975]\n",
      "-----------------------------------------------------------------------------------------\n",
      "const                     5.5038      0.577      9.540      0.000       4.364       6.644\n",
      "TV                        0.0865      0.014      6.244      0.000       0.059       0.114\n",
      "Radio                     0.1406      0.017      8.221      0.000       0.107       0.174\n",
      "Newspaper                 3.4598      0.411      8.420      0.000       2.648       4.272\n",
      "ROI_on_tv                 1.1745      0.102     11.563      0.000       0.974       1.375\n",
      "ROI_on_radio              1.1745      0.102     11.563      0.000       0.974       1.375\n",
      "ROI_on_newspaper          3.5825      0.314     11.421      0.000       2.963       4.202\n",
      "Total Advertising        -0.0319      0.014     -2.356      0.020      -0.059      -0.005\n",
      "TV Spend Ratio            1.1594      0.287      4.040      0.000       0.592       1.727\n",
      "Radio Spend Ratio        -0.6998      0.183     -3.832      0.000      -1.061      -0.339\n",
      "Newspaper Spend Ratio     1.0079      0.336      2.999      0.003       0.344       1.672\n",
      "==============================================================================\n",
      "Omnibus:                       20.473   Durbin-Watson:                   1.859\n",
      "Prob(Omnibus):                  0.000   Jarque-Bera (JB):               45.541\n",
      "Skew:                          -0.534   Prob(JB):                     1.29e-10\n",
      "Kurtosis:                       5.385   Cond. No.                     8.63e+18\n",
      "==============================================================================\n",
      "\n",
      "Notes:\n",
      "[1] Standard Errors assume that the covariance matrix of the errors is correctly specified.\n",
      "[2] The smallest eigenvalue is 1.61e-31. This might indicate that there are\n",
      "strong multicollinearity problems or that the design matrix is singular.\n"
     ]
    }
   ],
   "source": [
    "X_train = sm.add_constant(X_train) \n",
    "model_first= sm.OLS(y_train, X_train).fit()\n",
    "print(model.summary())"
   ]
  },
  {
   "cell_type": "code",
   "execution_count": null,
   "id": "24add6dd",
   "metadata": {},
   "outputs": [],
   "source": []
  },
  {
   "cell_type": "code",
   "execution_count": 295,
   "id": "9b414add",
   "metadata": {},
   "outputs": [],
   "source": [
    "# model 2"
   ]
  },
  {
   "cell_type": "code",
   "execution_count": 327,
   "id": "0ce81b53",
   "metadata": {},
   "outputs": [],
   "source": [
    "X = concatenated_df2[[\"TV\",\"Radio\",\"Newspaper\"]]\n",
    "y = concatenated_df2[\"Sales\"]"
   ]
  },
  {
   "cell_type": "code",
   "execution_count": 328,
   "id": "8feff0c4",
   "metadata": {},
   "outputs": [],
   "source": [
    "X_train, X_test, y_train, y_test = train_test_split(X,y, test_size=0.2, random_state=1)\n",
    "train_data = pd.concat([X_train,y_train], axis = 1)\n",
    "test_data = pd.concat([X_test,y_test], axis = 1)"
   ]
  },
  {
   "cell_type": "code",
   "execution_count": 329,
   "id": "33964912",
   "metadata": {},
   "outputs": [
    {
     "name": "stdout",
     "output_type": "stream",
     "text": [
      "                            OLS Regression Results                            \n",
      "==============================================================================\n",
      "Dep. Variable:                  Sales   R-squared:                       0.905\n",
      "Model:                            OLS   Adj. R-squared:                  0.904\n",
      "Method:                 Least Squares   F-statistic:                     498.1\n",
      "Date:                Tue, 28 May 2024   Prob (F-statistic):           1.18e-79\n",
      "Time:                        19:15:00   Log-Likelihood:                -309.13\n",
      "No. Observations:                 160   AIC:                             626.3\n",
      "Df Residuals:                     156   BIC:                             638.6\n",
      "Df Model:                           3                                         \n",
      "Covariance Type:            nonrobust                                         \n",
      "==============================================================================\n",
      "                 coef    std err          t      P>|t|      [0.025      0.975]\n",
      "------------------------------------------------------------------------------\n",
      "const          4.6248      0.329     14.053      0.000       3.975       5.275\n",
      "TV             0.0551      0.002     35.857      0.000       0.052       0.058\n",
      "Radio          0.1025      0.009     10.898      0.000       0.084       0.121\n",
      "Newspaper      0.0016      0.142      0.011      0.991      -0.279       0.282\n",
      "==============================================================================\n",
      "Omnibus:                       16.532   Durbin-Watson:                   2.125\n",
      "Prob(Omnibus):                  0.000   Jarque-Bera (JB):               27.838\n",
      "Skew:                          -0.523   Prob(JB):                     9.02e-07\n",
      "Kurtosis:                       4.756   Cond. No.                         417.\n",
      "==============================================================================\n",
      "\n",
      "Notes:\n",
      "[1] Standard Errors assume that the covariance matrix of the errors is correctly specified.\n"
     ]
    }
   ],
   "source": [
    "X_train = sm.add_constant(X_train) \n",
    "model2 = sm.OLS(y_train, X_train).fit()\n",
    "print(model2.summary())"
   ]
  },
  {
   "cell_type": "code",
   "execution_count": 299,
   "id": "21a7e03f",
   "metadata": {},
   "outputs": [],
   "source": [
    "# model 3"
   ]
  },
  {
   "cell_type": "code",
   "execution_count": 330,
   "id": "55e66688",
   "metadata": {},
   "outputs": [],
   "source": [
    "X=concatenated_df2[['Radio', 'Radio Spend Ratio', 'TV Spend Ratio']]\n",
    "y=concatenated_df2[\"Sales\"]"
   ]
  },
  {
   "cell_type": "code",
   "execution_count": 331,
   "id": "56cab2dd",
   "metadata": {},
   "outputs": [],
   "source": [
    "X_train, X_test, y_train, y_test = train_test_split(X,y, test_size=0.2, random_state=1)\n",
    "train_data = pd.concat([X_train,y_train], axis = 1)\n",
    "test_data = pd.concat([X_test,y_test], axis = 1)"
   ]
  },
  {
   "cell_type": "code",
   "execution_count": 332,
   "id": "f24db6f8",
   "metadata": {},
   "outputs": [
    {
     "name": "stdout",
     "output_type": "stream",
     "text": [
      "                            OLS Regression Results                            \n",
      "==============================================================================\n",
      "Dep. Variable:                  Sales   R-squared:                       0.836\n",
      "Model:                            OLS   Adj. R-squared:                  0.833\n",
      "Method:                 Least Squares   F-statistic:                     265.8\n",
      "Date:                Tue, 28 May 2024   Prob (F-statistic):           4.43e-61\n",
      "Time:                        19:15:06   Log-Likelihood:                -353.04\n",
      "No. Observations:                 160   AIC:                             714.1\n",
      "Df Residuals:                     156   BIC:                             726.4\n",
      "Df Model:                           3                                         \n",
      "Covariance Type:            nonrobust                                         \n",
      "=====================================================================================\n",
      "                        coef    std err          t      P>|t|      [0.025      0.975]\n",
      "-------------------------------------------------------------------------------------\n",
      "const                 6.3202      0.429     14.715      0.000       5.472       7.169\n",
      "Radio                 0.3738      0.017     22.077      0.000       0.340       0.407\n",
      "Radio Spend Ratio    -3.0072      0.317     -9.495      0.000      -3.633      -2.382\n",
      "TV Spend Ratio        3.1226      0.249     12.546      0.000       2.631       3.614\n",
      "==============================================================================\n",
      "Omnibus:                        4.261   Durbin-Watson:                   1.951\n",
      "Prob(Omnibus):                  0.119   Jarque-Bera (JB):                3.878\n",
      "Skew:                          -0.292   Prob(JB):                        0.144\n",
      "Kurtosis:                       3.490   Cond. No.                         77.7\n",
      "==============================================================================\n",
      "\n",
      "Notes:\n",
      "[1] Standard Errors assume that the covariance matrix of the errors is correctly specified.\n"
     ]
    }
   ],
   "source": [
    "X_train = sm.add_constant(X_train) \n",
    "model3 = sm.OLS(y_train, X_train).fit()\n",
    "print(model3.summary())"
   ]
  },
  {
   "cell_type": "code",
   "execution_count": 303,
   "id": "80cb6380",
   "metadata": {},
   "outputs": [],
   "source": [
    "# from above all three models we can say that model 1 is best among all the models"
   ]
  },
  {
   "cell_type": "code",
   "execution_count": 334,
   "id": "3fe1b4ca",
   "metadata": {},
   "outputs": [
    {
     "name": "stdout",
     "output_type": "stream",
     "text": [
      "                            OLS Regression Results                            \n",
      "==============================================================================\n",
      "Dep. Variable:                  Sales   R-squared:                       0.978\n",
      "Model:                            OLS   Adj. R-squared:                  0.977\n",
      "Method:                 Least Squares   F-statistic:                     758.3\n",
      "Date:                Tue, 28 May 2024   Prob (F-statistic):          2.82e-120\n",
      "Time:                        19:16:55   Log-Likelihood:                -190.69\n",
      "No. Observations:                 160   AIC:                             401.4\n",
      "Df Residuals:                     150   BIC:                             432.1\n",
      "Df Model:                           9                                         \n",
      "Covariance Type:            nonrobust                                         \n",
      "=========================================================================================\n",
      "                            coef    std err          t      P>|t|      [0.025      0.975]\n",
      "-----------------------------------------------------------------------------------------\n",
      "const                     5.5038      0.577      9.540      0.000       4.364       6.644\n",
      "TV                        0.0865      0.014      6.244      0.000       0.059       0.114\n",
      "Radio                     0.1406      0.017      8.221      0.000       0.107       0.174\n",
      "Newspaper                 3.4598      0.411      8.420      0.000       2.648       4.272\n",
      "ROI_on_tv                 1.1745      0.102     11.563      0.000       0.974       1.375\n",
      "ROI_on_radio              1.1745      0.102     11.563      0.000       0.974       1.375\n",
      "ROI_on_newspaper          3.5825      0.314     11.421      0.000       2.963       4.202\n",
      "Total Advertising        -0.0319      0.014     -2.356      0.020      -0.059      -0.005\n",
      "TV Spend Ratio            1.1594      0.287      4.040      0.000       0.592       1.727\n",
      "Radio Spend Ratio        -0.6998      0.183     -3.832      0.000      -1.061      -0.339\n",
      "Newspaper Spend Ratio     1.0079      0.336      2.999      0.003       0.344       1.672\n",
      "==============================================================================\n",
      "Omnibus:                       20.473   Durbin-Watson:                   1.859\n",
      "Prob(Omnibus):                  0.000   Jarque-Bera (JB):               45.541\n",
      "Skew:                          -0.534   Prob(JB):                     1.29e-10\n",
      "Kurtosis:                       5.385   Cond. No.                     8.63e+18\n",
      "==============================================================================\n",
      "\n",
      "Notes:\n",
      "[1] Standard Errors assume that the covariance matrix of the errors is correctly specified.\n",
      "[2] The smallest eigenvalue is 1.61e-31. This might indicate that there are\n",
      "strong multicollinearity problems or that the design matrix is singular.\n"
     ]
    }
   ],
   "source": [
    "from sklearn.model_selection import train_test_split\n",
    "X = concatenated_df2.drop(\"Sales\",axis=1)\n",
    "y = concatenated_df2[\"Sales\"]\n",
    "X_train, X_test, y_train, y_test = train_test_split(X,y, test_size=0.2, random_state=1)\n",
    "train_data = pd.concat([X_train,y_train], axis = 1)\n",
    "test_data = pd.concat([X_test,y_test], axis = 1)\n",
    "X_train = sm.add_constant(X_train) \n",
    "model_first= sm.OLS(y_train, X_train).fit()\n",
    "print(model.summary())"
   ]
  },
  {
   "cell_type": "code",
   "execution_count": 335,
   "id": "15b3d0ec",
   "metadata": {},
   "outputs": [
    {
     "data": {
      "text/plain": [
       "58     23.130995\n",
       "40     17.068531\n",
       "34     12.935668\n",
       "102    19.867793\n",
       "184    18.323068\n",
       "dtype: float64"
      ]
     },
     "execution_count": 335,
     "metadata": {},
     "output_type": "execute_result"
    }
   ],
   "source": [
    "X_test = sm.add_constant(X_test)\n",
    "sales_pred = model_first.predict(X_test) \n",
    "sales_pred.head()"
   ]
  },
  {
   "cell_type": "code",
   "execution_count": 340,
   "id": "7c28d028",
   "metadata": {},
   "outputs": [],
   "source": [
    "test_data[\"sales_pred\"] = sales_pred\n",
    "test_data[\"sales_diff\"] = test_data[\"Sales\"] - test_data['sales_pred']\n",
    "test_data[\"sales_diff%\"] = np.abs(test_data[\"sales_diff\"] / test_data[\"Sales\"]) * 100"
   ]
  },
  {
   "cell_type": "code",
   "execution_count": 341,
   "id": "1d9f8fe0",
   "metadata": {},
   "outputs": [
    {
     "data": {
      "text/plain": [
       "4.668582939571911"
      ]
     },
     "execution_count": 341,
     "metadata": {},
     "output_type": "execute_result"
    }
   ],
   "source": [
    "np.mean(np.abs((y_test - sales_pred) / y_test)) * 100"
   ]
  },
  {
   "cell_type": "code",
   "execution_count": 342,
   "id": "003c3594",
   "metadata": {},
   "outputs": [],
   "source": [
    "# from the above model we can conclude that if a company will invest in the above factors then their sales will increase, to a good amount"
   ]
  }
 ],
 "metadata": {
  "kernelspec": {
   "display_name": "Python 3 (ipykernel)",
   "language": "python",
   "name": "python3"
  },
  "language_info": {
   "codemirror_mode": {
    "name": "ipython",
    "version": 3
   },
   "file_extension": ".py",
   "mimetype": "text/x-python",
   "name": "python",
   "nbconvert_exporter": "python",
   "pygments_lexer": "ipython3",
   "version": "3.11.4"
  }
 },
 "nbformat": 4,
 "nbformat_minor": 5
}
